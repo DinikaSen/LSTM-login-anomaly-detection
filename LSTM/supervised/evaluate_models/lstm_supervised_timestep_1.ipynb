{
 "cells": [
  {
   "cell_type": "code",
   "execution_count": 2,
   "metadata": {},
   "outputs": [],
   "source": [
    "import tensorflow as tf\n",
    "tf.keras.backend.clear_session()\n"
   ]
  },
  {
   "cell_type": "code",
   "execution_count": 3,
   "metadata": {},
   "outputs": [],
   "source": [
    "import tarfile\n",
    "import pandas as pd\n",
    "import numpy as np\n",
    "import matplotlib.pyplot as plt\n",
    "import seaborn as sns\n",
    "from keras.models import Model\n",
    "from keras.layers import Input\n",
    "from keras.layers import Dense, LSTM\n",
    "from keras.layers import RepeatVector, TimeDistributed\n",
    "from keras import optimizers\n",
    "from keras.callbacks import ModelCheckpoint, EarlyStopping\n",
    "from sklearn.model_selection import train_test_split\n",
    "from sklearn.metrics import confusion_matrix, precision_recall_curve\n",
    "from sklearn.metrics import accuracy_score, precision_score\n",
    "from sklearn.metrics import recall_score, auc, roc_curve\n",
    "from sklearn.preprocessing import MinMaxScaler, OneHotEncoder, LabelEncoder\n",
    "from sklearn.pipeline import Pipeline\n",
    "from tensorflow import keras\n",
    "from tensorflow.keras import layers\n",
    "from tensorflow.random import set_seed\n",
    "import joblib"
   ]
  },
  {
   "cell_type": "code",
   "execution_count": 4,
   "metadata": {},
   "outputs": [],
   "source": [
    "np.random.seed(13)\n",
    "set_seed(12)\n",
    "#16 : 200\n",
    "logins_per_user = 200\n",
    "time_steps = 10"
   ]
  },
  {
   "cell_type": "code",
   "execution_count": 5,
   "metadata": {},
   "outputs": [],
   "source": [
    "# Load the user login data\n",
    "# df = pd.read_csv('/Users/dinika/Desktop/Dinika/MSc/Dissertation_Source_code/1_proprocess_data/synthetic_data_generation/final_200_userdata_unsupervised_with_sythentics.csv')\n",
    "df = pd.read_csv('/Users/dinika/Desktop/Dinika/MSc/Dissertation_Source_code/1_proprocess_data/3_final_user_data_supervised.csv')"
   ]
  },
  {
   "cell_type": "code",
   "execution_count": 6,
   "metadata": {},
   "outputs": [
    {
     "name": "stdout",
     "output_type": "stream",
     "text": [
      "class counts:\n",
      " 0    63445\n",
      "1     2555\n",
      "Name: is_malicious, dtype: int64\n",
      "\n",
      "% of positive values in data: 3.87%\n"
     ]
    }
   ],
   "source": [
    "print(\"class counts:\\n\", df[\"is_malicious\"].value_counts())\n",
    "print(\"\\n%% of positive values in data: %.2f%%\" % \n",
    "       ((df[df[\"is_malicious\"] == 1].shape[0] / df.shape[0]) * 100))"
   ]
  },
  {
   "cell_type": "code",
   "execution_count": 7,
   "metadata": {},
   "outputs": [
    {
     "data": {
      "text/html": [
       "<style>#sk-container-id-1 {color: black;background-color: white;}#sk-container-id-1 pre{padding: 0;}#sk-container-id-1 div.sk-toggleable {background-color: white;}#sk-container-id-1 label.sk-toggleable__label {cursor: pointer;display: block;width: 100%;margin-bottom: 0;padding: 0.3em;box-sizing: border-box;text-align: center;}#sk-container-id-1 label.sk-toggleable__label-arrow:before {content: \"▸\";float: left;margin-right: 0.25em;color: #696969;}#sk-container-id-1 label.sk-toggleable__label-arrow:hover:before {color: black;}#sk-container-id-1 div.sk-estimator:hover label.sk-toggleable__label-arrow:before {color: black;}#sk-container-id-1 div.sk-toggleable__content {max-height: 0;max-width: 0;overflow: hidden;text-align: left;background-color: #f0f8ff;}#sk-container-id-1 div.sk-toggleable__content pre {margin: 0.2em;color: black;border-radius: 0.25em;background-color: #f0f8ff;}#sk-container-id-1 input.sk-toggleable__control:checked~div.sk-toggleable__content {max-height: 200px;max-width: 100%;overflow: auto;}#sk-container-id-1 input.sk-toggleable__control:checked~label.sk-toggleable__label-arrow:before {content: \"▾\";}#sk-container-id-1 div.sk-estimator input.sk-toggleable__control:checked~label.sk-toggleable__label {background-color: #d4ebff;}#sk-container-id-1 div.sk-label input.sk-toggleable__control:checked~label.sk-toggleable__label {background-color: #d4ebff;}#sk-container-id-1 input.sk-hidden--visually {border: 0;clip: rect(1px 1px 1px 1px);clip: rect(1px, 1px, 1px, 1px);height: 1px;margin: -1px;overflow: hidden;padding: 0;position: absolute;width: 1px;}#sk-container-id-1 div.sk-estimator {font-family: monospace;background-color: #f0f8ff;border: 1px dotted black;border-radius: 0.25em;box-sizing: border-box;margin-bottom: 0.5em;}#sk-container-id-1 div.sk-estimator:hover {background-color: #d4ebff;}#sk-container-id-1 div.sk-parallel-item::after {content: \"\";width: 100%;border-bottom: 1px solid gray;flex-grow: 1;}#sk-container-id-1 div.sk-label:hover label.sk-toggleable__label {background-color: #d4ebff;}#sk-container-id-1 div.sk-serial::before {content: \"\";position: absolute;border-left: 1px solid gray;box-sizing: border-box;top: 0;bottom: 0;left: 50%;z-index: 0;}#sk-container-id-1 div.sk-serial {display: flex;flex-direction: column;align-items: center;background-color: white;padding-right: 0.2em;padding-left: 0.2em;position: relative;}#sk-container-id-1 div.sk-item {position: relative;z-index: 1;}#sk-container-id-1 div.sk-parallel {display: flex;align-items: stretch;justify-content: center;background-color: white;position: relative;}#sk-container-id-1 div.sk-item::before, #sk-container-id-1 div.sk-parallel-item::before {content: \"\";position: absolute;border-left: 1px solid gray;box-sizing: border-box;top: 0;bottom: 0;left: 50%;z-index: -1;}#sk-container-id-1 div.sk-parallel-item {display: flex;flex-direction: column;z-index: 1;position: relative;background-color: white;}#sk-container-id-1 div.sk-parallel-item:first-child::after {align-self: flex-end;width: 50%;}#sk-container-id-1 div.sk-parallel-item:last-child::after {align-self: flex-start;width: 50%;}#sk-container-id-1 div.sk-parallel-item:only-child::after {width: 0;}#sk-container-id-1 div.sk-dashed-wrapped {border: 1px dashed gray;margin: 0 0.4em 0.5em 0.4em;box-sizing: border-box;padding-bottom: 0.4em;background-color: white;}#sk-container-id-1 div.sk-label label {font-family: monospace;font-weight: bold;display: inline-block;line-height: 1.2em;}#sk-container-id-1 div.sk-label-container {text-align: center;}#sk-container-id-1 div.sk-container {/* jupyter's `normalize.less` sets `[hidden] { display: none; }` but bootstrap.min.css set `[hidden] { display: none !important; }` so we also need the `!important` here to be able to override the default hidden behavior on the sphinx rendered scikit-learn.org. See: https://github.com/scikit-learn/scikit-learn/issues/21755 */display: inline-block !important;position: relative;}#sk-container-id-1 div.sk-text-repr-fallback {display: none;}</style><div id=\"sk-container-id-1\" class=\"sk-top-container\"><div class=\"sk-text-repr-fallback\"><pre>LabelEncoder()</pre><b>In a Jupyter environment, please rerun this cell to show the HTML representation or trust the notebook. <br />On GitHub, the HTML representation is unable to render, please try loading this page with nbviewer.org.</b></div><div class=\"sk-container\" hidden><div class=\"sk-item\"><div class=\"sk-estimator sk-toggleable\"><input class=\"sk-toggleable__control sk-hidden--visually\" id=\"sk-estimator-id-1\" type=\"checkbox\" checked><label for=\"sk-estimator-id-1\" class=\"sk-toggleable__label sk-toggleable__label-arrow\">LabelEncoder</label><div class=\"sk-toggleable__content\"><pre>LabelEncoder()</pre></div></div></div></div></div>"
      ],
      "text/plain": [
       "LabelEncoder()"
      ]
     },
     "execution_count": 7,
     "metadata": {},
     "output_type": "execute_result"
    }
   ],
   "source": [
    "id_encoder = LabelEncoder()\n",
    "id_encoder.fit(df['user_id'].unique())"
   ]
  },
  {
   "cell_type": "code",
   "execution_count": 8,
   "metadata": {},
   "outputs": [
    {
     "data": {
      "text/html": [
       "<style>#sk-container-id-2 {color: black;background-color: white;}#sk-container-id-2 pre{padding: 0;}#sk-container-id-2 div.sk-toggleable {background-color: white;}#sk-container-id-2 label.sk-toggleable__label {cursor: pointer;display: block;width: 100%;margin-bottom: 0;padding: 0.3em;box-sizing: border-box;text-align: center;}#sk-container-id-2 label.sk-toggleable__label-arrow:before {content: \"▸\";float: left;margin-right: 0.25em;color: #696969;}#sk-container-id-2 label.sk-toggleable__label-arrow:hover:before {color: black;}#sk-container-id-2 div.sk-estimator:hover label.sk-toggleable__label-arrow:before {color: black;}#sk-container-id-2 div.sk-toggleable__content {max-height: 0;max-width: 0;overflow: hidden;text-align: left;background-color: #f0f8ff;}#sk-container-id-2 div.sk-toggleable__content pre {margin: 0.2em;color: black;border-radius: 0.25em;background-color: #f0f8ff;}#sk-container-id-2 input.sk-toggleable__control:checked~div.sk-toggleable__content {max-height: 200px;max-width: 100%;overflow: auto;}#sk-container-id-2 input.sk-toggleable__control:checked~label.sk-toggleable__label-arrow:before {content: \"▾\";}#sk-container-id-2 div.sk-estimator input.sk-toggleable__control:checked~label.sk-toggleable__label {background-color: #d4ebff;}#sk-container-id-2 div.sk-label input.sk-toggleable__control:checked~label.sk-toggleable__label {background-color: #d4ebff;}#sk-container-id-2 input.sk-hidden--visually {border: 0;clip: rect(1px 1px 1px 1px);clip: rect(1px, 1px, 1px, 1px);height: 1px;margin: -1px;overflow: hidden;padding: 0;position: absolute;width: 1px;}#sk-container-id-2 div.sk-estimator {font-family: monospace;background-color: #f0f8ff;border: 1px dotted black;border-radius: 0.25em;box-sizing: border-box;margin-bottom: 0.5em;}#sk-container-id-2 div.sk-estimator:hover {background-color: #d4ebff;}#sk-container-id-2 div.sk-parallel-item::after {content: \"\";width: 100%;border-bottom: 1px solid gray;flex-grow: 1;}#sk-container-id-2 div.sk-label:hover label.sk-toggleable__label {background-color: #d4ebff;}#sk-container-id-2 div.sk-serial::before {content: \"\";position: absolute;border-left: 1px solid gray;box-sizing: border-box;top: 0;bottom: 0;left: 50%;z-index: 0;}#sk-container-id-2 div.sk-serial {display: flex;flex-direction: column;align-items: center;background-color: white;padding-right: 0.2em;padding-left: 0.2em;position: relative;}#sk-container-id-2 div.sk-item {position: relative;z-index: 1;}#sk-container-id-2 div.sk-parallel {display: flex;align-items: stretch;justify-content: center;background-color: white;position: relative;}#sk-container-id-2 div.sk-item::before, #sk-container-id-2 div.sk-parallel-item::before {content: \"\";position: absolute;border-left: 1px solid gray;box-sizing: border-box;top: 0;bottom: 0;left: 50%;z-index: -1;}#sk-container-id-2 div.sk-parallel-item {display: flex;flex-direction: column;z-index: 1;position: relative;background-color: white;}#sk-container-id-2 div.sk-parallel-item:first-child::after {align-self: flex-end;width: 50%;}#sk-container-id-2 div.sk-parallel-item:last-child::after {align-self: flex-start;width: 50%;}#sk-container-id-2 div.sk-parallel-item:only-child::after {width: 0;}#sk-container-id-2 div.sk-dashed-wrapped {border: 1px dashed gray;margin: 0 0.4em 0.5em 0.4em;box-sizing: border-box;padding-bottom: 0.4em;background-color: white;}#sk-container-id-2 div.sk-label label {font-family: monospace;font-weight: bold;display: inline-block;line-height: 1.2em;}#sk-container-id-2 div.sk-label-container {text-align: center;}#sk-container-id-2 div.sk-container {/* jupyter's `normalize.less` sets `[hidden] { display: none; }` but bootstrap.min.css set `[hidden] { display: none !important; }` so we also need the `!important` here to be able to override the default hidden behavior on the sphinx rendered scikit-learn.org. See: https://github.com/scikit-learn/scikit-learn/issues/21755 */display: inline-block !important;position: relative;}#sk-container-id-2 div.sk-text-repr-fallback {display: none;}</style><div id=\"sk-container-id-2\" class=\"sk-top-container\"><div class=\"sk-text-repr-fallback\"><pre>OneHotEncoder(handle_unknown=&#x27;ignore&#x27;, sparse_output=False)</pre><b>In a Jupyter environment, please rerun this cell to show the HTML representation or trust the notebook. <br />On GitHub, the HTML representation is unable to render, please try loading this page with nbviewer.org.</b></div><div class=\"sk-container\" hidden><div class=\"sk-item\"><div class=\"sk-estimator sk-toggleable\"><input class=\"sk-toggleable__control sk-hidden--visually\" id=\"sk-estimator-id-2\" type=\"checkbox\" checked><label for=\"sk-estimator-id-2\" class=\"sk-toggleable__label sk-toggleable__label-arrow\">OneHotEncoder</label><div class=\"sk-toggleable__content\"><pre>OneHotEncoder(handle_unknown=&#x27;ignore&#x27;, sparse_output=False)</pre></div></div></div></div></div>"
      ],
      "text/plain": [
       "OneHotEncoder(handle_unknown='ignore', sparse_output=False)"
      ]
     },
     "execution_count": 8,
     "metadata": {},
     "output_type": "execute_result"
    }
   ],
   "source": [
    "country_encoder = OneHotEncoder(sparse_output=False, handle_unknown='ignore')\n",
    "country_encoder.fit(df['country'].unique().reshape(-1, 1))\n",
    "\n",
    "browser_encoder = OneHotEncoder(sparse_output=False, handle_unknown='ignore')\n",
    "browser_encoder.fit(df['browser'].unique().reshape(-1, 1))\n",
    "\n",
    "OS_encoder = OneHotEncoder(sparse_output=False, handle_unknown='ignore')\n",
    "OS_encoder.fit(df['os_version'].unique().reshape(-1, 1))\n",
    "\n",
    "device_encoder = OneHotEncoder(sparse_output=False, handle_unknown='ignore')\n",
    "device_encoder.fit(df['device'].unique().reshape(-1, 1))\n",
    "\n",
    "time_encoder = OneHotEncoder(sparse_output=False, handle_unknown='ignore')\n",
    "time_encoder.fit(df['login_time'].unique().reshape(-1, 1))"
   ]
  },
  {
   "cell_type": "code",
   "execution_count": 9,
   "metadata": {},
   "outputs": [
    {
     "name": "stderr",
     "output_type": "stream",
     "text": [
      "/Users/dinika/Library/Python/3.8/lib/python/site-packages/sklearn/preprocessing/_label.py:134: DataConversionWarning: A column-vector y was passed when a 1d array was expected. Please change the shape of y to (n_samples, ), for example using ravel().\n",
      "  y = column_or_1d(y, dtype=self.classes_.dtype, warn=True)\n"
     ]
    }
   ],
   "source": [
    "transformed_uid = id_encoder.transform(df['user_id'].to_numpy().reshape(-1, 1))\n",
    "encoded_uid= pd.DataFrame(transformed_uid, columns=['uid_code'])\n",
    "df = pd.concat([df, encoded_uid], axis=1).drop(['user_id'], axis=1)"
   ]
  },
  {
   "cell_type": "code",
   "execution_count": 10,
   "metadata": {},
   "outputs": [
    {
     "data": {
      "text/html": [
       "<div>\n",
       "<style scoped>\n",
       "    .dataframe tbody tr th:only-of-type {\n",
       "        vertical-align: middle;\n",
       "    }\n",
       "\n",
       "    .dataframe tbody tr th {\n",
       "        vertical-align: top;\n",
       "    }\n",
       "\n",
       "    .dataframe thead th {\n",
       "        text-align: right;\n",
       "    }\n",
       "</style>\n",
       "<table border=\"1\" class=\"dataframe\">\n",
       "  <thead>\n",
       "    <tr style=\"text-align: right;\">\n",
       "      <th></th>\n",
       "      <th>timestamp</th>\n",
       "      <th>login_time</th>\n",
       "      <th>country</th>\n",
       "      <th>browser</th>\n",
       "      <th>os_version</th>\n",
       "      <th>device</th>\n",
       "      <th>login_status</th>\n",
       "      <th>is_malicious</th>\n",
       "      <th>uid_code</th>\n",
       "    </tr>\n",
       "  </thead>\n",
       "  <tbody>\n",
       "    <tr>\n",
       "      <th>0</th>\n",
       "      <td>1589912560607000000</td>\n",
       "      <td>evening</td>\n",
       "      <td>NO</td>\n",
       "      <td>Chrome</td>\n",
       "      <td>Chrome OS</td>\n",
       "      <td>desktop</td>\n",
       "      <td>1</td>\n",
       "      <td>0</td>\n",
       "      <td>148</td>\n",
       "    </tr>\n",
       "    <tr>\n",
       "      <th>1</th>\n",
       "      <td>1589986550384000000</td>\n",
       "      <td>afternoon</td>\n",
       "      <td>NO</td>\n",
       "      <td>Chrome</td>\n",
       "      <td>Chrome OS</td>\n",
       "      <td>desktop</td>\n",
       "      <td>1</td>\n",
       "      <td>0</td>\n",
       "      <td>148</td>\n",
       "    </tr>\n",
       "    <tr>\n",
       "      <th>2</th>\n",
       "      <td>1590056570709000000</td>\n",
       "      <td>late_morning</td>\n",
       "      <td>NO</td>\n",
       "      <td>Chrome</td>\n",
       "      <td>Chrome OS</td>\n",
       "      <td>desktop</td>\n",
       "      <td>1</td>\n",
       "      <td>0</td>\n",
       "      <td>148</td>\n",
       "    </tr>\n",
       "    <tr>\n",
       "      <th>3</th>\n",
       "      <td>1590086333604000000</td>\n",
       "      <td>evening</td>\n",
       "      <td>NO</td>\n",
       "      <td>Chrome</td>\n",
       "      <td>Chrome OS</td>\n",
       "      <td>desktop</td>\n",
       "      <td>1</td>\n",
       "      <td>0</td>\n",
       "      <td>148</td>\n",
       "    </tr>\n",
       "    <tr>\n",
       "      <th>4</th>\n",
       "      <td>1590170279391000000</td>\n",
       "      <td>evening</td>\n",
       "      <td>NO</td>\n",
       "      <td>Chrome</td>\n",
       "      <td>Chrome OS</td>\n",
       "      <td>desktop</td>\n",
       "      <td>1</td>\n",
       "      <td>0</td>\n",
       "      <td>148</td>\n",
       "    </tr>\n",
       "  </tbody>\n",
       "</table>\n",
       "</div>"
      ],
      "text/plain": [
       "             timestamp    login_time country browser os_version   device  \\\n",
       "0  1589912560607000000       evening      NO  Chrome  Chrome OS  desktop   \n",
       "1  1589986550384000000     afternoon      NO  Chrome  Chrome OS  desktop   \n",
       "2  1590056570709000000  late_morning      NO  Chrome  Chrome OS  desktop   \n",
       "3  1590086333604000000       evening      NO  Chrome  Chrome OS  desktop   \n",
       "4  1590170279391000000       evening      NO  Chrome  Chrome OS  desktop   \n",
       "\n",
       "   login_status  is_malicious  uid_code  \n",
       "0             1             0       148  \n",
       "1             1             0       148  \n",
       "2             1             0       148  \n",
       "3             1             0       148  \n",
       "4             1             0       148  "
      ]
     },
     "execution_count": 10,
     "metadata": {},
     "output_type": "execute_result"
    }
   ],
   "source": [
    "df.head()"
   ]
  },
  {
   "cell_type": "code",
   "execution_count": 11,
   "metadata": {},
   "outputs": [],
   "source": [
    "min_max_scaler = MinMaxScaler()\n",
    "uid_scaled = min_max_scaler.fit_transform(df['uid_code'].to_numpy().reshape(-1, 1))\n",
    "uid_scaled = pd.DataFrame(uid_scaled, columns=['uid_scaled'])\n",
    "df = pd.concat([df, uid_scaled], axis=1).drop(['uid_code'], axis=1)"
   ]
  },
  {
   "cell_type": "code",
   "execution_count": 12,
   "metadata": {},
   "outputs": [
    {
     "data": {
      "text/html": [
       "<div>\n",
       "<style scoped>\n",
       "    .dataframe tbody tr th:only-of-type {\n",
       "        vertical-align: middle;\n",
       "    }\n",
       "\n",
       "    .dataframe tbody tr th {\n",
       "        vertical-align: top;\n",
       "    }\n",
       "\n",
       "    .dataframe thead th {\n",
       "        text-align: right;\n",
       "    }\n",
       "</style>\n",
       "<table border=\"1\" class=\"dataframe\">\n",
       "  <thead>\n",
       "    <tr style=\"text-align: right;\">\n",
       "      <th></th>\n",
       "      <th>timestamp</th>\n",
       "      <th>login_time</th>\n",
       "      <th>country</th>\n",
       "      <th>browser</th>\n",
       "      <th>os_version</th>\n",
       "      <th>device</th>\n",
       "      <th>login_status</th>\n",
       "      <th>is_malicious</th>\n",
       "      <th>uid_scaled</th>\n",
       "    </tr>\n",
       "  </thead>\n",
       "  <tbody>\n",
       "    <tr>\n",
       "      <th>0</th>\n",
       "      <td>1589912560607000000</td>\n",
       "      <td>evening</td>\n",
       "      <td>NO</td>\n",
       "      <td>Chrome</td>\n",
       "      <td>Chrome OS</td>\n",
       "      <td>desktop</td>\n",
       "      <td>1</td>\n",
       "      <td>0</td>\n",
       "      <td>0.449848</td>\n",
       "    </tr>\n",
       "    <tr>\n",
       "      <th>1</th>\n",
       "      <td>1589986550384000000</td>\n",
       "      <td>afternoon</td>\n",
       "      <td>NO</td>\n",
       "      <td>Chrome</td>\n",
       "      <td>Chrome OS</td>\n",
       "      <td>desktop</td>\n",
       "      <td>1</td>\n",
       "      <td>0</td>\n",
       "      <td>0.449848</td>\n",
       "    </tr>\n",
       "    <tr>\n",
       "      <th>2</th>\n",
       "      <td>1590056570709000000</td>\n",
       "      <td>late_morning</td>\n",
       "      <td>NO</td>\n",
       "      <td>Chrome</td>\n",
       "      <td>Chrome OS</td>\n",
       "      <td>desktop</td>\n",
       "      <td>1</td>\n",
       "      <td>0</td>\n",
       "      <td>0.449848</td>\n",
       "    </tr>\n",
       "    <tr>\n",
       "      <th>3</th>\n",
       "      <td>1590086333604000000</td>\n",
       "      <td>evening</td>\n",
       "      <td>NO</td>\n",
       "      <td>Chrome</td>\n",
       "      <td>Chrome OS</td>\n",
       "      <td>desktop</td>\n",
       "      <td>1</td>\n",
       "      <td>0</td>\n",
       "      <td>0.449848</td>\n",
       "    </tr>\n",
       "    <tr>\n",
       "      <th>4</th>\n",
       "      <td>1590170279391000000</td>\n",
       "      <td>evening</td>\n",
       "      <td>NO</td>\n",
       "      <td>Chrome</td>\n",
       "      <td>Chrome OS</td>\n",
       "      <td>desktop</td>\n",
       "      <td>1</td>\n",
       "      <td>0</td>\n",
       "      <td>0.449848</td>\n",
       "    </tr>\n",
       "  </tbody>\n",
       "</table>\n",
       "</div>"
      ],
      "text/plain": [
       "             timestamp    login_time country browser os_version   device  \\\n",
       "0  1589912560607000000       evening      NO  Chrome  Chrome OS  desktop   \n",
       "1  1589986550384000000     afternoon      NO  Chrome  Chrome OS  desktop   \n",
       "2  1590056570709000000  late_morning      NO  Chrome  Chrome OS  desktop   \n",
       "3  1590086333604000000       evening      NO  Chrome  Chrome OS  desktop   \n",
       "4  1590170279391000000       evening      NO  Chrome  Chrome OS  desktop   \n",
       "\n",
       "   login_status  is_malicious  uid_scaled  \n",
       "0             1             0    0.449848  \n",
       "1             1             0    0.449848  \n",
       "2             1             0    0.449848  \n",
       "3             1             0    0.449848  \n",
       "4             1             0    0.449848  "
      ]
     },
     "execution_count": 12,
     "metadata": {},
     "output_type": "execute_result"
    }
   ],
   "source": [
    "df.head()"
   ]
  },
  {
   "cell_type": "code",
   "execution_count": 13,
   "metadata": {},
   "outputs": [],
   "source": [
    "transformed_country = country_encoder.transform(df['country'].to_numpy().reshape(-1, 1))\n",
    "ohe_df_contry = pd.DataFrame(transformed_country, columns=country_encoder.get_feature_names_out())\n",
    "df = pd.concat([df, ohe_df_contry], axis=1).drop(['country'], axis=1)"
   ]
  },
  {
   "cell_type": "code",
   "execution_count": 14,
   "metadata": {},
   "outputs": [],
   "source": [
    "transformed_browser = browser_encoder.transform(df['browser'].to_numpy().reshape(-1, 1))\n",
    "ohe_df_browser = pd.DataFrame(transformed_browser, columns=browser_encoder.get_feature_names_out())\n",
    "df = pd.concat([df, ohe_df_browser], axis=1).drop(['browser'], axis=1)"
   ]
  },
  {
   "cell_type": "code",
   "execution_count": 15,
   "metadata": {},
   "outputs": [],
   "source": [
    "transformed_os = OS_encoder.transform(df['os_version'].to_numpy().reshape(-1, 1))\n",
    "ohe_df_os_version = pd.DataFrame(transformed_os, columns=OS_encoder.get_feature_names_out())\n",
    "df = pd.concat([df, ohe_df_os_version], axis=1).drop(['os_version'], axis=1)"
   ]
  },
  {
   "cell_type": "code",
   "execution_count": 16,
   "metadata": {},
   "outputs": [],
   "source": [
    "transformed_device = device_encoder.transform(df['device'].to_numpy().reshape(-1, 1))\n",
    "ohe_df_device = pd.DataFrame(transformed_device, columns=device_encoder.get_feature_names_out())\n",
    "df = pd.concat([df, ohe_df_device], axis=1).drop(['device'], axis=1)"
   ]
  },
  {
   "cell_type": "code",
   "execution_count": 17,
   "metadata": {},
   "outputs": [],
   "source": [
    "transformed_time = time_encoder.transform(df['login_time'].to_numpy().reshape(-1, 1))\n",
    "ohe_df_time = pd.DataFrame(transformed_time, columns=time_encoder.get_feature_names_out())\n",
    "df = pd.concat([df, ohe_df_time], axis=1).drop(['login_time'], axis=1)"
   ]
  },
  {
   "cell_type": "code",
   "execution_count": 18,
   "metadata": {},
   "outputs": [
    {
     "data": {
      "text/plain": [
       "['encoders_supervised/uid_min_max_scaler.joblib']"
      ]
     },
     "execution_count": 18,
     "metadata": {},
     "output_type": "execute_result"
    }
   ],
   "source": [
    "# joblib.dump(id_encoder,\"encoders_supervised/id_encoder.joblib\")\n",
    "# joblib.dump(country_encoder,\"encoders_supervised/country_encoder.joblib\")\n",
    "# joblib.dump(browser_encoder,\"encoders_supervised/browser_encoder.joblib\")\n",
    "# joblib.dump(OS_encoder,\"encoders_supervised/OS_encoder.joblib\")\n",
    "# joblib.dump(device_encoder,\"encoders_supervised/device_encoder.joblib\")\n",
    "# joblib.dump(time_encoder,\"encoders_supervised/time_encoder.joblib\")\n",
    "# joblib.dump(min_max_scaler,\"encoders_supervised/uid_min_max_scaler.joblib\")"
   ]
  },
  {
   "cell_type": "code",
   "execution_count": 19,
   "metadata": {},
   "outputs": [
    {
     "data": {
      "text/html": [
       "<div>\n",
       "<style scoped>\n",
       "    .dataframe tbody tr th:only-of-type {\n",
       "        vertical-align: middle;\n",
       "    }\n",
       "\n",
       "    .dataframe tbody tr th {\n",
       "        vertical-align: top;\n",
       "    }\n",
       "\n",
       "    .dataframe thead th {\n",
       "        text-align: right;\n",
       "    }\n",
       "</style>\n",
       "<table border=\"1\" class=\"dataframe\">\n",
       "  <thead>\n",
       "    <tr style=\"text-align: right;\">\n",
       "      <th></th>\n",
       "      <th>timestamp</th>\n",
       "      <th>login_status</th>\n",
       "      <th>is_malicious</th>\n",
       "      <th>uid_scaled</th>\n",
       "      <th>x0_AU</th>\n",
       "      <th>x0_BE</th>\n",
       "      <th>x0_BR</th>\n",
       "      <th>x0_CA</th>\n",
       "      <th>x0_CH</th>\n",
       "      <th>x0_CZ</th>\n",
       "      <th>...</th>\n",
       "      <th>x0_unknown</th>\n",
       "      <th>x0_afternoon</th>\n",
       "      <th>x0_early_morning</th>\n",
       "      <th>x0_evening</th>\n",
       "      <th>x0_late_evening</th>\n",
       "      <th>x0_late_morning</th>\n",
       "      <th>x0_late_night</th>\n",
       "      <th>x0_morning</th>\n",
       "      <th>x0_night</th>\n",
       "      <th>x0_noon</th>\n",
       "    </tr>\n",
       "  </thead>\n",
       "  <tbody>\n",
       "    <tr>\n",
       "      <th>0</th>\n",
       "      <td>1589912560607000000</td>\n",
       "      <td>1</td>\n",
       "      <td>0</td>\n",
       "      <td>0.449848</td>\n",
       "      <td>0.0</td>\n",
       "      <td>0.0</td>\n",
       "      <td>0.0</td>\n",
       "      <td>0.0</td>\n",
       "      <td>0.0</td>\n",
       "      <td>0.0</td>\n",
       "      <td>...</td>\n",
       "      <td>0.0</td>\n",
       "      <td>0.0</td>\n",
       "      <td>0.0</td>\n",
       "      <td>1.0</td>\n",
       "      <td>0.0</td>\n",
       "      <td>0.0</td>\n",
       "      <td>0.0</td>\n",
       "      <td>0.0</td>\n",
       "      <td>0.0</td>\n",
       "      <td>0.0</td>\n",
       "    </tr>\n",
       "    <tr>\n",
       "      <th>1</th>\n",
       "      <td>1589986550384000000</td>\n",
       "      <td>1</td>\n",
       "      <td>0</td>\n",
       "      <td>0.449848</td>\n",
       "      <td>0.0</td>\n",
       "      <td>0.0</td>\n",
       "      <td>0.0</td>\n",
       "      <td>0.0</td>\n",
       "      <td>0.0</td>\n",
       "      <td>0.0</td>\n",
       "      <td>...</td>\n",
       "      <td>0.0</td>\n",
       "      <td>1.0</td>\n",
       "      <td>0.0</td>\n",
       "      <td>0.0</td>\n",
       "      <td>0.0</td>\n",
       "      <td>0.0</td>\n",
       "      <td>0.0</td>\n",
       "      <td>0.0</td>\n",
       "      <td>0.0</td>\n",
       "      <td>0.0</td>\n",
       "    </tr>\n",
       "    <tr>\n",
       "      <th>2</th>\n",
       "      <td>1590056570709000000</td>\n",
       "      <td>1</td>\n",
       "      <td>0</td>\n",
       "      <td>0.449848</td>\n",
       "      <td>0.0</td>\n",
       "      <td>0.0</td>\n",
       "      <td>0.0</td>\n",
       "      <td>0.0</td>\n",
       "      <td>0.0</td>\n",
       "      <td>0.0</td>\n",
       "      <td>...</td>\n",
       "      <td>0.0</td>\n",
       "      <td>0.0</td>\n",
       "      <td>0.0</td>\n",
       "      <td>0.0</td>\n",
       "      <td>0.0</td>\n",
       "      <td>1.0</td>\n",
       "      <td>0.0</td>\n",
       "      <td>0.0</td>\n",
       "      <td>0.0</td>\n",
       "      <td>0.0</td>\n",
       "    </tr>\n",
       "    <tr>\n",
       "      <th>3</th>\n",
       "      <td>1590086333604000000</td>\n",
       "      <td>1</td>\n",
       "      <td>0</td>\n",
       "      <td>0.449848</td>\n",
       "      <td>0.0</td>\n",
       "      <td>0.0</td>\n",
       "      <td>0.0</td>\n",
       "      <td>0.0</td>\n",
       "      <td>0.0</td>\n",
       "      <td>0.0</td>\n",
       "      <td>...</td>\n",
       "      <td>0.0</td>\n",
       "      <td>0.0</td>\n",
       "      <td>0.0</td>\n",
       "      <td>1.0</td>\n",
       "      <td>0.0</td>\n",
       "      <td>0.0</td>\n",
       "      <td>0.0</td>\n",
       "      <td>0.0</td>\n",
       "      <td>0.0</td>\n",
       "      <td>0.0</td>\n",
       "    </tr>\n",
       "    <tr>\n",
       "      <th>4</th>\n",
       "      <td>1590170279391000000</td>\n",
       "      <td>1</td>\n",
       "      <td>0</td>\n",
       "      <td>0.449848</td>\n",
       "      <td>0.0</td>\n",
       "      <td>0.0</td>\n",
       "      <td>0.0</td>\n",
       "      <td>0.0</td>\n",
       "      <td>0.0</td>\n",
       "      <td>0.0</td>\n",
       "      <td>...</td>\n",
       "      <td>0.0</td>\n",
       "      <td>0.0</td>\n",
       "      <td>0.0</td>\n",
       "      <td>1.0</td>\n",
       "      <td>0.0</td>\n",
       "      <td>0.0</td>\n",
       "      <td>0.0</td>\n",
       "      <td>0.0</td>\n",
       "      <td>0.0</td>\n",
       "      <td>0.0</td>\n",
       "    </tr>\n",
       "  </tbody>\n",
       "</table>\n",
       "<p>5 rows × 83 columns</p>\n",
       "</div>"
      ],
      "text/plain": [
       "             timestamp  login_status  is_malicious  uid_scaled  x0_AU  x0_BE  \\\n",
       "0  1589912560607000000             1             0    0.449848    0.0    0.0   \n",
       "1  1589986550384000000             1             0    0.449848    0.0    0.0   \n",
       "2  1590056570709000000             1             0    0.449848    0.0    0.0   \n",
       "3  1590086333604000000             1             0    0.449848    0.0    0.0   \n",
       "4  1590170279391000000             1             0    0.449848    0.0    0.0   \n",
       "\n",
       "   x0_BR  x0_CA  x0_CH  x0_CZ  ...  x0_unknown  x0_afternoon  \\\n",
       "0    0.0    0.0    0.0    0.0  ...         0.0           0.0   \n",
       "1    0.0    0.0    0.0    0.0  ...         0.0           1.0   \n",
       "2    0.0    0.0    0.0    0.0  ...         0.0           0.0   \n",
       "3    0.0    0.0    0.0    0.0  ...         0.0           0.0   \n",
       "4    0.0    0.0    0.0    0.0  ...         0.0           0.0   \n",
       "\n",
       "   x0_early_morning  x0_evening  x0_late_evening  x0_late_morning  \\\n",
       "0               0.0         1.0              0.0              0.0   \n",
       "1               0.0         0.0              0.0              0.0   \n",
       "2               0.0         0.0              0.0              1.0   \n",
       "3               0.0         1.0              0.0              0.0   \n",
       "4               0.0         1.0              0.0              0.0   \n",
       "\n",
       "   x0_late_night  x0_morning  x0_night  x0_noon  \n",
       "0            0.0         0.0       0.0      0.0  \n",
       "1            0.0         0.0       0.0      0.0  \n",
       "2            0.0         0.0       0.0      0.0  \n",
       "3            0.0         0.0       0.0      0.0  \n",
       "4            0.0         0.0       0.0      0.0  \n",
       "\n",
       "[5 rows x 83 columns]"
      ]
     },
     "execution_count": 19,
     "metadata": {},
     "output_type": "execute_result"
    }
   ],
   "source": [
    "df.head()"
   ]
  },
  {
   "cell_type": "code",
   "execution_count": 20,
   "metadata": {},
   "outputs": [],
   "source": [
    "#shuffle the data\n",
    "df = df.sample(frac=1).reset_index(drop=True)"
   ]
  },
  {
   "cell_type": "code",
   "execution_count": 22,
   "metadata": {},
   "outputs": [
    {
     "data": {
      "text/html": [
       "<div>\n",
       "<style scoped>\n",
       "    .dataframe tbody tr th:only-of-type {\n",
       "        vertical-align: middle;\n",
       "    }\n",
       "\n",
       "    .dataframe tbody tr th {\n",
       "        vertical-align: top;\n",
       "    }\n",
       "\n",
       "    .dataframe thead th {\n",
       "        text-align: right;\n",
       "    }\n",
       "</style>\n",
       "<table border=\"1\" class=\"dataframe\">\n",
       "  <thead>\n",
       "    <tr style=\"text-align: right;\">\n",
       "      <th></th>\n",
       "      <th>timestamp</th>\n",
       "      <th>login_status</th>\n",
       "      <th>is_malicious</th>\n",
       "      <th>uid_scaled</th>\n",
       "      <th>x0_AU</th>\n",
       "      <th>x0_BE</th>\n",
       "      <th>x0_BR</th>\n",
       "      <th>x0_CA</th>\n",
       "      <th>x0_CH</th>\n",
       "      <th>x0_CZ</th>\n",
       "      <th>...</th>\n",
       "      <th>x0_unknown</th>\n",
       "      <th>x0_afternoon</th>\n",
       "      <th>x0_early_morning</th>\n",
       "      <th>x0_evening</th>\n",
       "      <th>x0_late_evening</th>\n",
       "      <th>x0_late_morning</th>\n",
       "      <th>x0_late_night</th>\n",
       "      <th>x0_morning</th>\n",
       "      <th>x0_night</th>\n",
       "      <th>x0_noon</th>\n",
       "    </tr>\n",
       "  </thead>\n",
       "  <tbody>\n",
       "    <tr>\n",
       "      <th>0</th>\n",
       "      <td>1596634139999000000</td>\n",
       "      <td>1</td>\n",
       "      <td>0</td>\n",
       "      <td>0.370821</td>\n",
       "      <td>0.0</td>\n",
       "      <td>0.0</td>\n",
       "      <td>0.0</td>\n",
       "      <td>0.0</td>\n",
       "      <td>0.0</td>\n",
       "      <td>0.0</td>\n",
       "      <td>...</td>\n",
       "      <td>0.0</td>\n",
       "      <td>0.0</td>\n",
       "      <td>0.0</td>\n",
       "      <td>0.0</td>\n",
       "      <td>0.0</td>\n",
       "      <td>0.0</td>\n",
       "      <td>0.0</td>\n",
       "      <td>0.0</td>\n",
       "      <td>0.0</td>\n",
       "      <td>1.0</td>\n",
       "    </tr>\n",
       "    <tr>\n",
       "      <th>1</th>\n",
       "      <td>1584043112701000000</td>\n",
       "      <td>1</td>\n",
       "      <td>0</td>\n",
       "      <td>0.495441</td>\n",
       "      <td>0.0</td>\n",
       "      <td>0.0</td>\n",
       "      <td>0.0</td>\n",
       "      <td>0.0</td>\n",
       "      <td>0.0</td>\n",
       "      <td>0.0</td>\n",
       "      <td>...</td>\n",
       "      <td>0.0</td>\n",
       "      <td>0.0</td>\n",
       "      <td>0.0</td>\n",
       "      <td>0.0</td>\n",
       "      <td>1.0</td>\n",
       "      <td>0.0</td>\n",
       "      <td>0.0</td>\n",
       "      <td>0.0</td>\n",
       "      <td>0.0</td>\n",
       "      <td>0.0</td>\n",
       "    </tr>\n",
       "    <tr>\n",
       "      <th>2</th>\n",
       "      <td>1593412145207000000</td>\n",
       "      <td>1</td>\n",
       "      <td>0</td>\n",
       "      <td>0.246201</td>\n",
       "      <td>0.0</td>\n",
       "      <td>0.0</td>\n",
       "      <td>0.0</td>\n",
       "      <td>0.0</td>\n",
       "      <td>0.0</td>\n",
       "      <td>0.0</td>\n",
       "      <td>...</td>\n",
       "      <td>0.0</td>\n",
       "      <td>0.0</td>\n",
       "      <td>1.0</td>\n",
       "      <td>0.0</td>\n",
       "      <td>0.0</td>\n",
       "      <td>0.0</td>\n",
       "      <td>0.0</td>\n",
       "      <td>0.0</td>\n",
       "      <td>0.0</td>\n",
       "      <td>0.0</td>\n",
       "    </tr>\n",
       "    <tr>\n",
       "      <th>3</th>\n",
       "      <td>1599499116991000000</td>\n",
       "      <td>1</td>\n",
       "      <td>0</td>\n",
       "      <td>0.024316</td>\n",
       "      <td>0.0</td>\n",
       "      <td>0.0</td>\n",
       "      <td>0.0</td>\n",
       "      <td>0.0</td>\n",
       "      <td>0.0</td>\n",
       "      <td>0.0</td>\n",
       "      <td>...</td>\n",
       "      <td>0.0</td>\n",
       "      <td>0.0</td>\n",
       "      <td>0.0</td>\n",
       "      <td>1.0</td>\n",
       "      <td>0.0</td>\n",
       "      <td>0.0</td>\n",
       "      <td>0.0</td>\n",
       "      <td>0.0</td>\n",
       "      <td>0.0</td>\n",
       "      <td>0.0</td>\n",
       "    </tr>\n",
       "    <tr>\n",
       "      <th>4</th>\n",
       "      <td>1587119545004000000</td>\n",
       "      <td>1</td>\n",
       "      <td>0</td>\n",
       "      <td>0.854103</td>\n",
       "      <td>0.0</td>\n",
       "      <td>0.0</td>\n",
       "      <td>0.0</td>\n",
       "      <td>0.0</td>\n",
       "      <td>0.0</td>\n",
       "      <td>0.0</td>\n",
       "      <td>...</td>\n",
       "      <td>0.0</td>\n",
       "      <td>0.0</td>\n",
       "      <td>0.0</td>\n",
       "      <td>0.0</td>\n",
       "      <td>0.0</td>\n",
       "      <td>1.0</td>\n",
       "      <td>0.0</td>\n",
       "      <td>0.0</td>\n",
       "      <td>0.0</td>\n",
       "      <td>0.0</td>\n",
       "    </tr>\n",
       "  </tbody>\n",
       "</table>\n",
       "<p>5 rows × 83 columns</p>\n",
       "</div>"
      ],
      "text/plain": [
       "             timestamp  login_status  is_malicious  uid_scaled  x0_AU  x0_BE  \\\n",
       "0  1596634139999000000             1             0    0.370821    0.0    0.0   \n",
       "1  1584043112701000000             1             0    0.495441    0.0    0.0   \n",
       "2  1593412145207000000             1             0    0.246201    0.0    0.0   \n",
       "3  1599499116991000000             1             0    0.024316    0.0    0.0   \n",
       "4  1587119545004000000             1             0    0.854103    0.0    0.0   \n",
       "\n",
       "   x0_BR  x0_CA  x0_CH  x0_CZ  ...  x0_unknown  x0_afternoon  \\\n",
       "0    0.0    0.0    0.0    0.0  ...         0.0           0.0   \n",
       "1    0.0    0.0    0.0    0.0  ...         0.0           0.0   \n",
       "2    0.0    0.0    0.0    0.0  ...         0.0           0.0   \n",
       "3    0.0    0.0    0.0    0.0  ...         0.0           0.0   \n",
       "4    0.0    0.0    0.0    0.0  ...         0.0           0.0   \n",
       "\n",
       "   x0_early_morning  x0_evening  x0_late_evening  x0_late_morning  \\\n",
       "0               0.0         0.0              0.0              0.0   \n",
       "1               0.0         0.0              1.0              0.0   \n",
       "2               1.0         0.0              0.0              0.0   \n",
       "3               0.0         1.0              0.0              0.0   \n",
       "4               0.0         0.0              0.0              1.0   \n",
       "\n",
       "   x0_late_night  x0_morning  x0_night  x0_noon  \n",
       "0            0.0         0.0       0.0      1.0  \n",
       "1            0.0         0.0       0.0      0.0  \n",
       "2            0.0         0.0       0.0      0.0  \n",
       "3            0.0         0.0       0.0      0.0  \n",
       "4            0.0         0.0       0.0      0.0  \n",
       "\n",
       "[5 rows x 83 columns]"
      ]
     },
     "execution_count": 22,
     "metadata": {},
     "output_type": "execute_result"
    }
   ],
   "source": [
    "df.head()"
   ]
  },
  {
   "cell_type": "code",
   "execution_count": 23,
   "metadata": {},
   "outputs": [],
   "source": [
    "predictors = df.drop([\"is_malicious\"], axis = 1)\n",
    "predictors = df.drop([\"timestamp\"], axis = 1)\n",
    "target = df[\"is_malicious\"]"
   ]
  },
  {
   "cell_type": "code",
   "execution_count": 24,
   "metadata": {},
   "outputs": [
    {
     "data": {
      "text/plain": [
       "count    66000.000000\n",
       "mean         0.038712\n",
       "std          0.192909\n",
       "min          0.000000\n",
       "25%          0.000000\n",
       "50%          0.000000\n",
       "75%          0.000000\n",
       "max          1.000000\n",
       "Name: is_malicious, dtype: float64"
      ]
     },
     "execution_count": 24,
     "metadata": {},
     "output_type": "execute_result"
    }
   ],
   "source": [
    "target.describe()"
   ]
  },
  {
   "cell_type": "code",
   "execution_count": 25,
   "metadata": {},
   "outputs": [
    {
     "data": {
      "text/html": [
       "<div>\n",
       "<style scoped>\n",
       "    .dataframe tbody tr th:only-of-type {\n",
       "        vertical-align: middle;\n",
       "    }\n",
       "\n",
       "    .dataframe tbody tr th {\n",
       "        vertical-align: top;\n",
       "    }\n",
       "\n",
       "    .dataframe thead th {\n",
       "        text-align: right;\n",
       "    }\n",
       "</style>\n",
       "<table border=\"1\" class=\"dataframe\">\n",
       "  <thead>\n",
       "    <tr style=\"text-align: right;\">\n",
       "      <th></th>\n",
       "      <th>login_status</th>\n",
       "      <th>is_malicious</th>\n",
       "      <th>uid_scaled</th>\n",
       "      <th>x0_AU</th>\n",
       "      <th>x0_BE</th>\n",
       "      <th>x0_BR</th>\n",
       "      <th>x0_CA</th>\n",
       "      <th>x0_CH</th>\n",
       "      <th>x0_CZ</th>\n",
       "      <th>x0_DE</th>\n",
       "      <th>...</th>\n",
       "      <th>x0_unknown</th>\n",
       "      <th>x0_afternoon</th>\n",
       "      <th>x0_early_morning</th>\n",
       "      <th>x0_evening</th>\n",
       "      <th>x0_late_evening</th>\n",
       "      <th>x0_late_morning</th>\n",
       "      <th>x0_late_night</th>\n",
       "      <th>x0_morning</th>\n",
       "      <th>x0_night</th>\n",
       "      <th>x0_noon</th>\n",
       "    </tr>\n",
       "  </thead>\n",
       "  <tbody>\n",
       "    <tr>\n",
       "      <th>0</th>\n",
       "      <td>1</td>\n",
       "      <td>0</td>\n",
       "      <td>0.370821</td>\n",
       "      <td>0.0</td>\n",
       "      <td>0.0</td>\n",
       "      <td>0.0</td>\n",
       "      <td>0.0</td>\n",
       "      <td>0.0</td>\n",
       "      <td>0.0</td>\n",
       "      <td>0.0</td>\n",
       "      <td>...</td>\n",
       "      <td>0.0</td>\n",
       "      <td>0.0</td>\n",
       "      <td>0.0</td>\n",
       "      <td>0.0</td>\n",
       "      <td>0.0</td>\n",
       "      <td>0.0</td>\n",
       "      <td>0.0</td>\n",
       "      <td>0.0</td>\n",
       "      <td>0.0</td>\n",
       "      <td>1.0</td>\n",
       "    </tr>\n",
       "    <tr>\n",
       "      <th>1</th>\n",
       "      <td>1</td>\n",
       "      <td>0</td>\n",
       "      <td>0.495441</td>\n",
       "      <td>0.0</td>\n",
       "      <td>0.0</td>\n",
       "      <td>0.0</td>\n",
       "      <td>0.0</td>\n",
       "      <td>0.0</td>\n",
       "      <td>0.0</td>\n",
       "      <td>0.0</td>\n",
       "      <td>...</td>\n",
       "      <td>0.0</td>\n",
       "      <td>0.0</td>\n",
       "      <td>0.0</td>\n",
       "      <td>0.0</td>\n",
       "      <td>1.0</td>\n",
       "      <td>0.0</td>\n",
       "      <td>0.0</td>\n",
       "      <td>0.0</td>\n",
       "      <td>0.0</td>\n",
       "      <td>0.0</td>\n",
       "    </tr>\n",
       "    <tr>\n",
       "      <th>2</th>\n",
       "      <td>1</td>\n",
       "      <td>0</td>\n",
       "      <td>0.246201</td>\n",
       "      <td>0.0</td>\n",
       "      <td>0.0</td>\n",
       "      <td>0.0</td>\n",
       "      <td>0.0</td>\n",
       "      <td>0.0</td>\n",
       "      <td>0.0</td>\n",
       "      <td>0.0</td>\n",
       "      <td>...</td>\n",
       "      <td>0.0</td>\n",
       "      <td>0.0</td>\n",
       "      <td>1.0</td>\n",
       "      <td>0.0</td>\n",
       "      <td>0.0</td>\n",
       "      <td>0.0</td>\n",
       "      <td>0.0</td>\n",
       "      <td>0.0</td>\n",
       "      <td>0.0</td>\n",
       "      <td>0.0</td>\n",
       "    </tr>\n",
       "    <tr>\n",
       "      <th>3</th>\n",
       "      <td>1</td>\n",
       "      <td>0</td>\n",
       "      <td>0.024316</td>\n",
       "      <td>0.0</td>\n",
       "      <td>0.0</td>\n",
       "      <td>0.0</td>\n",
       "      <td>0.0</td>\n",
       "      <td>0.0</td>\n",
       "      <td>0.0</td>\n",
       "      <td>0.0</td>\n",
       "      <td>...</td>\n",
       "      <td>0.0</td>\n",
       "      <td>0.0</td>\n",
       "      <td>0.0</td>\n",
       "      <td>1.0</td>\n",
       "      <td>0.0</td>\n",
       "      <td>0.0</td>\n",
       "      <td>0.0</td>\n",
       "      <td>0.0</td>\n",
       "      <td>0.0</td>\n",
       "      <td>0.0</td>\n",
       "    </tr>\n",
       "    <tr>\n",
       "      <th>4</th>\n",
       "      <td>1</td>\n",
       "      <td>0</td>\n",
       "      <td>0.854103</td>\n",
       "      <td>0.0</td>\n",
       "      <td>0.0</td>\n",
       "      <td>0.0</td>\n",
       "      <td>0.0</td>\n",
       "      <td>0.0</td>\n",
       "      <td>0.0</td>\n",
       "      <td>0.0</td>\n",
       "      <td>...</td>\n",
       "      <td>0.0</td>\n",
       "      <td>0.0</td>\n",
       "      <td>0.0</td>\n",
       "      <td>0.0</td>\n",
       "      <td>0.0</td>\n",
       "      <td>1.0</td>\n",
       "      <td>0.0</td>\n",
       "      <td>0.0</td>\n",
       "      <td>0.0</td>\n",
       "      <td>0.0</td>\n",
       "    </tr>\n",
       "    <tr>\n",
       "      <th>5</th>\n",
       "      <td>1</td>\n",
       "      <td>0</td>\n",
       "      <td>0.896657</td>\n",
       "      <td>0.0</td>\n",
       "      <td>0.0</td>\n",
       "      <td>0.0</td>\n",
       "      <td>0.0</td>\n",
       "      <td>0.0</td>\n",
       "      <td>0.0</td>\n",
       "      <td>0.0</td>\n",
       "      <td>...</td>\n",
       "      <td>0.0</td>\n",
       "      <td>0.0</td>\n",
       "      <td>0.0</td>\n",
       "      <td>0.0</td>\n",
       "      <td>0.0</td>\n",
       "      <td>0.0</td>\n",
       "      <td>0.0</td>\n",
       "      <td>1.0</td>\n",
       "      <td>0.0</td>\n",
       "      <td>0.0</td>\n",
       "    </tr>\n",
       "    <tr>\n",
       "      <th>6</th>\n",
       "      <td>1</td>\n",
       "      <td>0</td>\n",
       "      <td>0.975684</td>\n",
       "      <td>0.0</td>\n",
       "      <td>0.0</td>\n",
       "      <td>0.0</td>\n",
       "      <td>0.0</td>\n",
       "      <td>0.0</td>\n",
       "      <td>0.0</td>\n",
       "      <td>0.0</td>\n",
       "      <td>...</td>\n",
       "      <td>0.0</td>\n",
       "      <td>0.0</td>\n",
       "      <td>0.0</td>\n",
       "      <td>0.0</td>\n",
       "      <td>0.0</td>\n",
       "      <td>1.0</td>\n",
       "      <td>0.0</td>\n",
       "      <td>0.0</td>\n",
       "      <td>0.0</td>\n",
       "      <td>0.0</td>\n",
       "    </tr>\n",
       "    <tr>\n",
       "      <th>7</th>\n",
       "      <td>1</td>\n",
       "      <td>0</td>\n",
       "      <td>0.638298</td>\n",
       "      <td>0.0</td>\n",
       "      <td>0.0</td>\n",
       "      <td>0.0</td>\n",
       "      <td>0.0</td>\n",
       "      <td>0.0</td>\n",
       "      <td>0.0</td>\n",
       "      <td>0.0</td>\n",
       "      <td>...</td>\n",
       "      <td>0.0</td>\n",
       "      <td>0.0</td>\n",
       "      <td>0.0</td>\n",
       "      <td>0.0</td>\n",
       "      <td>0.0</td>\n",
       "      <td>0.0</td>\n",
       "      <td>0.0</td>\n",
       "      <td>1.0</td>\n",
       "      <td>0.0</td>\n",
       "      <td>0.0</td>\n",
       "    </tr>\n",
       "    <tr>\n",
       "      <th>8</th>\n",
       "      <td>1</td>\n",
       "      <td>0</td>\n",
       "      <td>0.559271</td>\n",
       "      <td>0.0</td>\n",
       "      <td>0.0</td>\n",
       "      <td>0.0</td>\n",
       "      <td>0.0</td>\n",
       "      <td>0.0</td>\n",
       "      <td>0.0</td>\n",
       "      <td>0.0</td>\n",
       "      <td>...</td>\n",
       "      <td>0.0</td>\n",
       "      <td>0.0</td>\n",
       "      <td>0.0</td>\n",
       "      <td>1.0</td>\n",
       "      <td>0.0</td>\n",
       "      <td>0.0</td>\n",
       "      <td>0.0</td>\n",
       "      <td>0.0</td>\n",
       "      <td>0.0</td>\n",
       "      <td>0.0</td>\n",
       "    </tr>\n",
       "    <tr>\n",
       "      <th>9</th>\n",
       "      <td>1</td>\n",
       "      <td>0</td>\n",
       "      <td>0.246201</td>\n",
       "      <td>0.0</td>\n",
       "      <td>0.0</td>\n",
       "      <td>0.0</td>\n",
       "      <td>0.0</td>\n",
       "      <td>0.0</td>\n",
       "      <td>0.0</td>\n",
       "      <td>0.0</td>\n",
       "      <td>...</td>\n",
       "      <td>0.0</td>\n",
       "      <td>1.0</td>\n",
       "      <td>0.0</td>\n",
       "      <td>0.0</td>\n",
       "      <td>0.0</td>\n",
       "      <td>0.0</td>\n",
       "      <td>0.0</td>\n",
       "      <td>0.0</td>\n",
       "      <td>0.0</td>\n",
       "      <td>0.0</td>\n",
       "    </tr>\n",
       "  </tbody>\n",
       "</table>\n",
       "<p>10 rows × 82 columns</p>\n",
       "</div>"
      ],
      "text/plain": [
       "   login_status  is_malicious  uid_scaled  x0_AU  x0_BE  x0_BR  x0_CA  x0_CH  \\\n",
       "0             1             0    0.370821    0.0    0.0    0.0    0.0    0.0   \n",
       "1             1             0    0.495441    0.0    0.0    0.0    0.0    0.0   \n",
       "2             1             0    0.246201    0.0    0.0    0.0    0.0    0.0   \n",
       "3             1             0    0.024316    0.0    0.0    0.0    0.0    0.0   \n",
       "4             1             0    0.854103    0.0    0.0    0.0    0.0    0.0   \n",
       "5             1             0    0.896657    0.0    0.0    0.0    0.0    0.0   \n",
       "6             1             0    0.975684    0.0    0.0    0.0    0.0    0.0   \n",
       "7             1             0    0.638298    0.0    0.0    0.0    0.0    0.0   \n",
       "8             1             0    0.559271    0.0    0.0    0.0    0.0    0.0   \n",
       "9             1             0    0.246201    0.0    0.0    0.0    0.0    0.0   \n",
       "\n",
       "   x0_CZ  x0_DE  ...  x0_unknown  x0_afternoon  x0_early_morning  x0_evening  \\\n",
       "0    0.0    0.0  ...         0.0           0.0               0.0         0.0   \n",
       "1    0.0    0.0  ...         0.0           0.0               0.0         0.0   \n",
       "2    0.0    0.0  ...         0.0           0.0               1.0         0.0   \n",
       "3    0.0    0.0  ...         0.0           0.0               0.0         1.0   \n",
       "4    0.0    0.0  ...         0.0           0.0               0.0         0.0   \n",
       "5    0.0    0.0  ...         0.0           0.0               0.0         0.0   \n",
       "6    0.0    0.0  ...         0.0           0.0               0.0         0.0   \n",
       "7    0.0    0.0  ...         0.0           0.0               0.0         0.0   \n",
       "8    0.0    0.0  ...         0.0           0.0               0.0         1.0   \n",
       "9    0.0    0.0  ...         0.0           1.0               0.0         0.0   \n",
       "\n",
       "   x0_late_evening  x0_late_morning  x0_late_night  x0_morning  x0_night  \\\n",
       "0              0.0              0.0            0.0         0.0       0.0   \n",
       "1              1.0              0.0            0.0         0.0       0.0   \n",
       "2              0.0              0.0            0.0         0.0       0.0   \n",
       "3              0.0              0.0            0.0         0.0       0.0   \n",
       "4              0.0              1.0            0.0         0.0       0.0   \n",
       "5              0.0              0.0            0.0         1.0       0.0   \n",
       "6              0.0              1.0            0.0         0.0       0.0   \n",
       "7              0.0              0.0            0.0         1.0       0.0   \n",
       "8              0.0              0.0            0.0         0.0       0.0   \n",
       "9              0.0              0.0            0.0         0.0       0.0   \n",
       "\n",
       "   x0_noon  \n",
       "0      1.0  \n",
       "1      0.0  \n",
       "2      0.0  \n",
       "3      0.0  \n",
       "4      0.0  \n",
       "5      0.0  \n",
       "6      0.0  \n",
       "7      0.0  \n",
       "8      0.0  \n",
       "9      0.0  \n",
       "\n",
       "[10 rows x 82 columns]"
      ]
     },
     "execution_count": 25,
     "metadata": {},
     "output_type": "execute_result"
    }
   ],
   "source": [
    "predictors.head(10)"
   ]
  },
  {
   "cell_type": "code",
   "execution_count": 26,
   "metadata": {},
   "outputs": [],
   "source": [
    "#create a sample df with 2 columns a and b\n",
    "#df_sample = pd.DataFrame({'b': [1, 12, 13, 14, 15, 12, 12,4, 41, 42, 43, 44], 'a': [11, 11, 11, 11, 11, 11, 44, 44, 44, 44, 44, 44], 'c': [1111, 1121, 1131, 1141, 1151, 1161, 4414, 4424, 4434, 4444, 4544, 4464]})"
   ]
  },
  {
   "cell_type": "code",
   "execution_count": 27,
   "metadata": {},
   "outputs": [],
   "source": [
    "def split_data(sequences, train_fraction, validation_fraction, test_fraaction):\n",
    "    train_size = int(len(sequences) * train_fraction)\n",
    "    validation_size = int(len(sequences) * validation_fraction)\n",
    "    test_size = int(len(sequences) * test_fraaction)\n",
    "    train, validation, test = sequences[:train_size], sequences[train_size:train_size+validation_size], sequences[train_size+validation_size:]\n",
    "    return train, validation, test"
   ]
  },
  {
   "cell_type": "code",
   "execution_count": 28,
   "metadata": {},
   "outputs": [
    {
     "data": {
      "text/plain": [
       "0    63445\n",
       "1     2555\n",
       "Name: is_malicious, dtype: int64"
      ]
     },
     "execution_count": 28,
     "metadata": {},
     "output_type": "execute_result"
    }
   ],
   "source": [
    "#get unique value counts in target\n",
    "target.value_counts()"
   ]
  },
  {
   "cell_type": "code",
   "execution_count": 29,
   "metadata": {},
   "outputs": [],
   "source": [
    "train_x = []\n",
    "train_y = []\n",
    "test_x = []\n",
    "test_y = []\n",
    "val_x = []\n",
    "val_y = []\n",
    "\n",
    "unique_users = df['uid_scaled'].unique().tolist()\n",
    "#unique_users = df_sample['a'].unique().tolist()\n",
    "\n",
    "for user in unique_users:\n",
    "    user_df = df[df['uid_scaled'] == user]\n",
    "    predictors_local = user_df.drop([\"is_malicious\"], axis = 1)\n",
    "    predictors_local = user_df.drop([\"timestamp\"], axis = 1)\n",
    "    target_local = user_df[\"is_malicious\"]\n",
    "    user_sequences = []\n",
    "    user_y_values = []\n",
    "    for i in range(time_steps, len(user_df)+1):\n",
    "        seq = predictors_local.iloc[i - time_steps:i].values\n",
    "        user_sequences.append(seq)\n",
    "        out_seq = target_local.iloc[i-1]\n",
    "        user_y_values.append(out_seq)\n",
    "    user_train_X, user_val_X, user_test_X = split_data(user_sequences,0.6,0.2,0.2) \n",
    "    user_train_y, user_val_y, user_test_y = split_data(user_y_values,0.6,0.2,0.2)\n",
    "    train_x.extend(user_train_X)\n",
    "    train_y.extend(user_train_y)\n",
    "    val_x.extend(user_val_X)\n",
    "    val_y.extend(user_val_y)\n",
    "    test_x.extend(user_test_X)\n",
    "    test_y.extend(user_test_y)\n",
    "\n",
    "# for i in range(time_steps, len(df)):\n",
    "#     seq = predictors.iloc[i - time_steps:i].values\n",
    "#     sequences.append(seq)\n",
    "#     out_seq = target.iloc[i]\n",
    "#     y_values.append(out_seq)\n",
    "    \n"
   ]
  },
  {
   "cell_type": "code",
   "execution_count": 30,
   "metadata": {},
   "outputs": [
    {
     "data": {
      "text/plain": [
       "(37620, 37620, 12540, 12540, 12870, 12870)"
      ]
     },
     "execution_count": 30,
     "metadata": {},
     "output_type": "execute_result"
    }
   ],
   "source": [
    "len(train_x), len(train_y), len(val_x), len(val_y), len(test_x), len(test_y)"
   ]
  },
  {
   "cell_type": "code",
   "execution_count": 31,
   "metadata": {},
   "outputs": [
    {
     "name": "stdout",
     "output_type": "stream",
     "text": [
      "[0 1] [36175  1445]\n"
     ]
    }
   ],
   "source": [
    "# print unique value counts in train_y\n",
    "unique, counts = np.unique(train_y, return_counts=True)\n",
    "print(unique, counts )\n"
   ]
  },
  {
   "cell_type": "code",
   "execution_count": 32,
   "metadata": {},
   "outputs": [
    {
     "name": "stdout",
     "output_type": "stream",
     "text": [
      "[0 1] [12056   484]\n"
     ]
    }
   ],
   "source": [
    "# print unique value counts in val_y\n",
    "unique, counts = np.unique(val_y, return_counts=True)\n",
    "print(unique, counts )"
   ]
  },
  {
   "cell_type": "code",
   "execution_count": 33,
   "metadata": {},
   "outputs": [
    {
     "name": "stdout",
     "output_type": "stream",
     "text": [
      "[0 1] [12371   499]\n"
     ]
    }
   ],
   "source": [
    "# print unique value counts in test_y\n",
    "unique, counts = np.unique(test_y, return_counts=True)\n",
    "print(unique, counts )"
   ]
  },
  {
   "cell_type": "code",
   "execution_count": 34,
   "metadata": {},
   "outputs": [],
   "source": [
    "X_train = np.array(train_x)\n",
    "y_train = np.array(train_y)\n",
    "y_train = y_train.reshape(y_train.shape[0], 1)\n",
    "X_val = np.array(val_x)\n",
    "y_val = np.array(val_y)\n",
    "y_val = y_val.reshape(y_val.shape[0], 1)\n",
    "X_test = np.array(test_x)\n",
    "y_test = np.array(test_y)\n",
    "y_test = y_test.reshape(y_test.shape[0], 1)\n",
    "\n",
    "# sequences_np = np.array(sequences)\n",
    "# y_sequesnces_np = np.array(y_values)\n",
    "# y_sequesnces_np = y_sequesnces_np.reshape(y_sequesnces_np.shape[0], 1)"
   ]
  },
  {
   "cell_type": "code",
   "execution_count": 35,
   "metadata": {},
   "outputs": [
    {
     "name": "stdout",
     "output_type": "stream",
     "text": [
      "X_train shape:\n",
      " (37620, 10, 82)\n",
      "y_train shape:\n",
      " (37620, 1)\n",
      "X_val shape:\n",
      " (12540, 10, 82)\n",
      "y_val shape:\n",
      " (12540, 1)\n",
      "X_test shape:\n",
      " (12870, 10, 82)\n",
      "y_test shape:\n",
      " (12870, 1)\n"
     ]
    }
   ],
   "source": [
    "print(\"X_train shape:\\n\", X_train.shape)\n",
    "print(\"y_train shape:\\n\", y_train.shape)\n",
    "print(\"X_val shape:\\n\", X_val.shape)\n",
    "print(\"y_val shape:\\n\", y_val.shape)\n",
    "print(\"X_test shape:\\n\", X_test.shape)\n",
    "print(\"y_test shape:\\n\", y_test.shape)"
   ]
  },
  {
   "cell_type": "code",
   "execution_count": 36,
   "metadata": {},
   "outputs": [],
   "source": [
    "# define the LSTM model\n",
    "model = keras.Sequential([\n",
    "    layers.LSTM(64, input_shape=(time_steps, 82), return_sequences=True),\n",
    "    layers.LSTM(32, return_sequences=True),\n",
    "    layers.LSTM(16, return_sequences=False),\n",
    "    layers.Dense(1, activation='sigmoid')\n",
    "])\n",
    "\n",
    "model.compile(loss='binary_crossentropy', optimizer='adam',metrics=['accuracy'])"
   ]
  },
  {
   "cell_type": "code",
   "execution_count": 37,
   "metadata": {},
   "outputs": [
    {
     "name": "stdout",
     "output_type": "stream",
     "text": [
      "Model: \"sequential\"\n",
      "_________________________________________________________________\n",
      " Layer (type)                Output Shape              Param #   \n",
      "=================================================================\n",
      " lstm (LSTM)                 (None, 10, 64)            37632     \n",
      "                                                                 \n",
      " lstm_1 (LSTM)               (None, 10, 32)            12416     \n",
      "                                                                 \n",
      " lstm_2 (LSTM)               (None, 16)                3136      \n",
      "                                                                 \n",
      " dense (Dense)               (None, 1)                 17        \n",
      "                                                                 \n",
      "=================================================================\n",
      "Total params: 53,201\n",
      "Trainable params: 53,201\n",
      "Non-trainable params: 0\n",
      "_________________________________________________________________\n"
     ]
    }
   ],
   "source": [
    "# print the model summary\n",
    "model.summary()"
   ]
  },
  {
   "cell_type": "code",
   "execution_count": 38,
   "metadata": {},
   "outputs": [
    {
     "data": {
      "text/plain": [
       "191"
      ]
     },
     "execution_count": 38,
     "metadata": {},
     "output_type": "execute_result"
    }
   ],
   "source": [
    "batch_size = logins_per_user - time_steps + 1\n",
    "batch_size"
   ]
  },
  {
   "cell_type": "code",
   "execution_count": 39,
   "metadata": {},
   "outputs": [
    {
     "name": "stdout",
     "output_type": "stream",
     "text": [
      "Epoch 1/10\n"
     ]
    },
    {
     "name": "stderr",
     "output_type": "stream",
     "text": [
      "2023-03-05 01:05:14.717125: W tensorflow/tsl/platform/profile_utils/cpu_utils.cc:128] Failed to get CPU frequency: 0 Hz\n"
     ]
    },
    {
     "name": "stdout",
     "output_type": "stream",
     "text": [
      "197/197 - 7s - loss: 0.1803 - accuracy: 0.9542 - val_loss: 0.0917 - val_accuracy: 0.9658 - 7s/epoch - 35ms/step\n",
      "Epoch 2/10\n",
      "197/197 - 3s - loss: 0.1012 - accuracy: 0.9642 - val_loss: 0.0776 - val_accuracy: 0.9672 - 3s/epoch - 18ms/step\n",
      "Epoch 3/10\n",
      "197/197 - 3s - loss: 0.0774 - accuracy: 0.9695 - val_loss: 0.0736 - val_accuracy: 0.9705 - 3s/epoch - 18ms/step\n",
      "Epoch 4/10\n",
      "197/197 - 3s - loss: 0.0729 - accuracy: 0.9705 - val_loss: 0.0714 - val_accuracy: 0.9709 - 3s/epoch - 18ms/step\n",
      "Epoch 5/10\n",
      "197/197 - 3s - loss: 0.0704 - accuracy: 0.9719 - val_loss: 0.0698 - val_accuracy: 0.9714 - 3s/epoch - 18ms/step\n",
      "Epoch 6/10\n",
      "197/197 - 4s - loss: 0.0679 - accuracy: 0.9718 - val_loss: 0.0681 - val_accuracy: 0.9722 - 4s/epoch - 18ms/step\n",
      "Epoch 7/10\n",
      "197/197 - 3s - loss: 0.0663 - accuracy: 0.9723 - val_loss: 0.0672 - val_accuracy: 0.9716 - 3s/epoch - 18ms/step\n",
      "Epoch 8/10\n",
      "197/197 - 3s - loss: 0.0651 - accuracy: 0.9727 - val_loss: 0.0667 - val_accuracy: 0.9715 - 3s/epoch - 18ms/step\n",
      "Epoch 9/10\n",
      "197/197 - 3s - loss: 0.0638 - accuracy: 0.9734 - val_loss: 0.0655 - val_accuracy: 0.9714 - 3s/epoch - 18ms/step\n",
      "Epoch 10/10\n",
      "197/197 - 3s - loss: 0.0615 - accuracy: 0.9753 - val_loss: 0.0613 - val_accuracy: 0.9756 - 3s/epoch - 18ms/step\n"
     ]
    }
   ],
   "source": [
    "# train the model\n",
    "history = model.fit(X_train, y_train, epochs=10, batch_size=batch_size, validation_data=(X_val, y_val), verbose=2, shuffle=False)"
   ]
  },
  {
   "cell_type": "code",
   "execution_count": 40,
   "metadata": {},
   "outputs": [
    {
     "name": "stdout",
     "output_type": "stream",
     "text": [
      "1176/1176 [==============================] - 3s 2ms/step\n",
      "392/392 [==============================] - 1s 2ms/step\n",
      "403/403 [==============================] - 1s 2ms/step\n"
     ]
    }
   ],
   "source": [
    "train_pred = model.predict(X_train)\n",
    "val_pred = model.predict(X_val)\n",
    "test_pred = model.predict(X_test)"
   ]
  },
  {
   "cell_type": "code",
   "execution_count": 41,
   "metadata": {},
   "outputs": [
    {
     "name": "stdout",
     "output_type": "stream",
     "text": [
      "train_pred shape:\n",
      " (37620, 1)\n",
      "val_pred shape:\n",
      " (12540, 1)\n",
      "test_pred shape:\n",
      " (12870, 1)\n"
     ]
    }
   ],
   "source": [
    "print(\"train_pred shape:\\n\", train_pred.shape)\n",
    "print(\"val_pred shape:\\n\", val_pred.shape)\n",
    "print(\"test_pred shape:\\n\", test_pred.shape)"
   ]
  },
  {
   "cell_type": "code",
   "execution_count": 42,
   "metadata": {},
   "outputs": [
    {
     "data": {
      "text/plain": [
       "array([[0.00335881],\n",
       "       [0.00312774],\n",
       "       [0.00317228],\n",
       "       ...,\n",
       "       [0.00293625],\n",
       "       [0.00292307],\n",
       "       [0.00320286]], dtype=float32)"
      ]
     },
     "execution_count": 42,
     "metadata": {},
     "output_type": "execute_result"
    }
   ],
   "source": [
    "test_pred"
   ]
  },
  {
   "cell_type": "code",
   "execution_count": 43,
   "metadata": {},
   "outputs": [],
   "source": [
    "# test_error = pd.DataFrame({\"prediction\": test_pred,\n",
    "#                         \"actual\": y_test})\n",
    "\n",
    "test_pred_df = pd.DataFrame(test_pred)"
   ]
  },
  {
   "cell_type": "code",
   "execution_count": 44,
   "metadata": {},
   "outputs": [
    {
     "data": {
      "image/png": "[encoded data removed]",
      "text/plain": [
       "<Figure size 640x480 with 1 Axes>"
      ]
     },
     "metadata": {},
     "output_type": "display_data"
    }
   ],
   "source": [
    "g = sns.histplot(data = test_pred_df, bins = 10)\n",
    "# plt.axvline(lstm.threshold, color = \"r\", label = \"threshold\")\n",
    "# plt.legend(loc = \"upper right\")\n",
    "# g.set_yscale(\"log\")\n",
    "plt.show()"
   ]
  },
  {
   "cell_type": "code",
   "execution_count": 45,
   "metadata": {},
   "outputs": [],
   "source": [
    "def mapPredictionsToClass(pred):\n",
    "    pred_class = []\n",
    "    for i in pred:\n",
    "        if i > 0.5:\n",
    "            pred_class.append(1)\n",
    "        else:\n",
    "            pred_class.append(0)\n",
    "    return pred_class"
   ]
  },
  {
   "cell_type": "code",
   "execution_count": 46,
   "metadata": {},
   "outputs": [],
   "source": [
    "train_pred = mapPredictionsToClass(train_pred)\n",
    "val_pred = mapPredictionsToClass(val_pred)\n",
    "test_pred = mapPredictionsToClass(test_pred)"
   ]
  },
  {
   "cell_type": "code",
   "execution_count": 47,
   "metadata": {},
   "outputs": [
    {
     "name": "stdout",
     "output_type": "stream",
     "text": [
      "Accuracy train: 97.60%\n",
      "Accuracy validation: 97.56%\n",
      "Accuracy test: 97.62%\n",
      "Precision: 69.90%\n",
      "Recall: 67.94%\n"
     ]
    }
   ],
   "source": [
    "conf_matrix = confusion_matrix(y_test, test_pred)\n",
    "print(\"Accuracy train: %.2f%%\" % (100 * accuracy_score(y_train, train_pred)))\n",
    "print(\"Accuracy validation: %.2f%%\" % (100 * accuracy_score(y_val, val_pred)))\n",
    "print(\"Accuracy test: %.2f%%\" % (100 * accuracy_score(y_test, test_pred)))\n",
    "print(\"Precision: %.2f%%\" % (100 * precision_score(y_test, test_pred)))\n",
    "print(\"Recall: %.2f%%\" % (100 * recall_score(y_test, test_pred)))"
   ]
  },
  {
   "cell_type": "code",
   "execution_count": 48,
   "metadata": {},
   "outputs": [],
   "source": [
    "conf_matrix = confusion_matrix(y_test, test_pred)"
   ]
  },
  {
   "cell_type": "code",
   "execution_count": 49,
   "metadata": {},
   "outputs": [
    {
     "data": {
      "image/png": "[encoded data removed]",
      "text/plain": [
       "<Figure size 640x480 with 2 Axes>"
      ]
     },
     "metadata": {},
     "output_type": "display_data"
    }
   ],
   "source": [
    "sns.heatmap(conf_matrix, \n",
    "            xticklabels = [\"normal\", \"fraud\"], \n",
    "            yticklabels=[\"normal\", \"fraud\"], \n",
    "            annot = True, fmt = \"d\")\n",
    "plt.ylabel(\"actual\")\n",
    "plt.xlabel(\"predicted\")\n",
    "plt.show()"
   ]
  },
  {
   "cell_type": "code",
   "execution_count": null,
   "metadata": {},
   "outputs": [],
   "source": []
  }
 ],
 "metadata": {
  "kernelspec": {
   "display_name": "Python 3.8.9 64-bit",
   "language": "python",
   "name": "python3"
  },
  "language_info": {
   "codemirror_mode": {
    "name": "ipython",
    "version": 3
   },
   "file_extension": ".py",
   "mimetype": "text/x-python",
   "name": "python",
   "nbconvert_exporter": "python",
   "pygments_lexer": "ipython3",
   "version": "3.8.9"
  },
  "orig_nbformat": 4,
  "vscode": {
   "interpreter": {
    "hash": "31f2aee4e71d21fbe5cf8b01ff0e069b9275f58929596ceb00d14d90e3e16cd6"
   }
  }
 },
 "nbformat": 4,
 "nbformat_minor": 2
}
