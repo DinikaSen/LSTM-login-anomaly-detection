{
 "cells": [
  {
   "cell_type": "code",
   "execution_count": 185,
   "metadata": {},
   "outputs": [],
   "source": [
    "import tensorflow as tf\n",
    "tf.keras.backend.clear_session()"
   ]
  },
  {
   "cell_type": "code",
   "execution_count": 186,
   "metadata": {},
   "outputs": [],
   "source": [
    "import tarfile\n",
    "import pandas as pd\n",
    "import numpy as np\n",
    "import matplotlib.pyplot as plt\n",
    "import seaborn as sns\n",
    "from keras.models import Model\n",
    "from keras.layers import Input\n",
    "from keras.layers import Dense, LSTM\n",
    "from keras.layers import RepeatVector, TimeDistributed\n",
    "from keras import optimizers\n",
    "from keras.callbacks import ModelCheckpoint, EarlyStopping\n",
    "from sklearn.model_selection import train_test_split\n",
    "from sklearn.metrics import confusion_matrix, precision_recall_curve\n",
    "from sklearn.metrics import accuracy_score, precision_score\n",
    "from sklearn.metrics import recall_score, auc, roc_curve\n",
    "from sklearn.preprocessing import MinMaxScaler, OneHotEncoder, LabelEncoder\n",
    "from sklearn.pipeline import Pipeline\n",
    "from tensorflow import keras\n",
    "from tensorflow.random import set_seed\n",
    "from tensorflow.keras import layers\n",
    "import joblib\n",
    "\n",
    "np.random.seed(13)"
   ]
  },
  {
   "cell_type": "code",
   "execution_count": 187,
   "metadata": {},
   "outputs": [],
   "source": [
    "np.random.seed(13)\n",
    "set_seed(1)\n",
    "logins_per_user = 150\n",
    "time_steps = 10"
   ]
  },
  {
   "cell_type": "code",
   "execution_count": 188,
   "metadata": {},
   "outputs": [],
   "source": [
    "df = pd.read_csv('../../preprocessing/final_processed_user_data_un.csv')\n",
    "test_df = pd.read_csv('../../preprocessing/final_processed_user_data_un_test.csv')"
   ]
  },
  {
   "cell_type": "code",
   "execution_count": 189,
   "metadata": {},
   "outputs": [
    {
     "name": "stdout",
     "output_type": "stream",
     "text": [
      "class counts:\n",
      " 0    46650\n",
      "Name: is_malicious, dtype: int64\n",
      "\n",
      "% of positive values in data: 0.00%\n"
     ]
    }
   ],
   "source": [
    "print(\"class counts:\\n\", df[\"is_malicious\"].value_counts())\n",
    "print(\"\\n%% of positive values in data: %.2f%%\" % \n",
    "       ((df[df[\"is_malicious\"] == 1].shape[0] / df.shape[0]) * 100))"
   ]
  },
  {
   "cell_type": "code",
   "execution_count": 190,
   "metadata": {},
   "outputs": [
    {
     "name": "stderr",
     "output_type": "stream",
     "text": [
      "/var/folders/9r/mynryq4x5234hzzqwgfzcd5h0000gn/T/ipykernel_85121/3294716345.py:2: FutureWarning: The frame.append method is deprecated and will be removed from pandas in a future version. Use pandas.concat instead.\n",
      "  df_for_encoding = df.append(test_df)\n"
     ]
    }
   ],
   "source": [
    "#append the test data to the training data\n",
    "df_for_encoding = df.append(test_df)"
   ]
  },
  {
   "cell_type": "code",
   "execution_count": 191,
   "metadata": {},
   "outputs": [
    {
     "data": {
      "text/html": [
       "<style>#sk-container-id-12 {color: black;background-color: white;}#sk-container-id-12 pre{padding: 0;}#sk-container-id-12 div.sk-toggleable {background-color: white;}#sk-container-id-12 label.sk-toggleable__label {cursor: pointer;display: block;width: 100%;margin-bottom: 0;padding: 0.3em;box-sizing: border-box;text-align: center;}#sk-container-id-12 label.sk-toggleable__label-arrow:before {content: \"▸\";float: left;margin-right: 0.25em;color: #696969;}#sk-container-id-12 label.sk-toggleable__label-arrow:hover:before {color: black;}#sk-container-id-12 div.sk-estimator:hover label.sk-toggleable__label-arrow:before {color: black;}#sk-container-id-12 div.sk-toggleable__content {max-height: 0;max-width: 0;overflow: hidden;text-align: left;background-color: #f0f8ff;}#sk-container-id-12 div.sk-toggleable__content pre {margin: 0.2em;color: black;border-radius: 0.25em;background-color: #f0f8ff;}#sk-container-id-12 input.sk-toggleable__control:checked~div.sk-toggleable__content {max-height: 200px;max-width: 100%;overflow: auto;}#sk-container-id-12 input.sk-toggleable__control:checked~label.sk-toggleable__label-arrow:before {content: \"▾\";}#sk-container-id-12 div.sk-estimator input.sk-toggleable__control:checked~label.sk-toggleable__label {background-color: #d4ebff;}#sk-container-id-12 div.sk-label input.sk-toggleable__control:checked~label.sk-toggleable__label {background-color: #d4ebff;}#sk-container-id-12 input.sk-hidden--visually {border: 0;clip: rect(1px 1px 1px 1px);clip: rect(1px, 1px, 1px, 1px);height: 1px;margin: -1px;overflow: hidden;padding: 0;position: absolute;width: 1px;}#sk-container-id-12 div.sk-estimator {font-family: monospace;background-color: #f0f8ff;border: 1px dotted black;border-radius: 0.25em;box-sizing: border-box;margin-bottom: 0.5em;}#sk-container-id-12 div.sk-estimator:hover {background-color: #d4ebff;}#sk-container-id-12 div.sk-parallel-item::after {content: \"\";width: 100%;border-bottom: 1px solid gray;flex-grow: 1;}#sk-container-id-12 div.sk-label:hover label.sk-toggleable__label {background-color: #d4ebff;}#sk-container-id-12 div.sk-serial::before {content: \"\";position: absolute;border-left: 1px solid gray;box-sizing: border-box;top: 0;bottom: 0;left: 50%;z-index: 0;}#sk-container-id-12 div.sk-serial {display: flex;flex-direction: column;align-items: center;background-color: white;padding-right: 0.2em;padding-left: 0.2em;position: relative;}#sk-container-id-12 div.sk-item {position: relative;z-index: 1;}#sk-container-id-12 div.sk-parallel {display: flex;align-items: stretch;justify-content: center;background-color: white;position: relative;}#sk-container-id-12 div.sk-item::before, #sk-container-id-12 div.sk-parallel-item::before {content: \"\";position: absolute;border-left: 1px solid gray;box-sizing: border-box;top: 0;bottom: 0;left: 50%;z-index: -1;}#sk-container-id-12 div.sk-parallel-item {display: flex;flex-direction: column;z-index: 1;position: relative;background-color: white;}#sk-container-id-12 div.sk-parallel-item:first-child::after {align-self: flex-end;width: 50%;}#sk-container-id-12 div.sk-parallel-item:last-child::after {align-self: flex-start;width: 50%;}#sk-container-id-12 div.sk-parallel-item:only-child::after {width: 0;}#sk-container-id-12 div.sk-dashed-wrapped {border: 1px dashed gray;margin: 0 0.4em 0.5em 0.4em;box-sizing: border-box;padding-bottom: 0.4em;background-color: white;}#sk-container-id-12 div.sk-label label {font-family: monospace;font-weight: bold;display: inline-block;line-height: 1.2em;}#sk-container-id-12 div.sk-label-container {text-align: center;}#sk-container-id-12 div.sk-container {/* jupyter's `normalize.less` sets `[hidden] { display: none; }` but bootstrap.min.css set `[hidden] { display: none !important; }` so we also need the `!important` here to be able to override the default hidden behavior on the sphinx rendered scikit-learn.org. See: https://github.com/scikit-learn/scikit-learn/issues/21755 */display: inline-block !important;position: relative;}#sk-container-id-12 div.sk-text-repr-fallback {display: none;}</style><div id=\"sk-container-id-12\" class=\"sk-top-container\"><div class=\"sk-text-repr-fallback\"><pre>LabelEncoder()</pre><b>In a Jupyter environment, please rerun this cell to show the HTML representation or trust the notebook. <br />On GitHub, the HTML representation is unable to render, please try loading this page with nbviewer.org.</b></div><div class=\"sk-container\" hidden><div class=\"sk-item\"><div class=\"sk-estimator sk-toggleable\"><input class=\"sk-toggleable__control sk-hidden--visually\" id=\"sk-estimator-id-12\" type=\"checkbox\" checked><label for=\"sk-estimator-id-12\" class=\"sk-toggleable__label sk-toggleable__label-arrow\">LabelEncoder</label><div class=\"sk-toggleable__content\"><pre>LabelEncoder()</pre></div></div></div></div></div>"
      ],
      "text/plain": [
       "LabelEncoder()"
      ]
     },
     "execution_count": 191,
     "metadata": {},
     "output_type": "execute_result"
    }
   ],
   "source": [
    "id_encoder = LabelEncoder()\n",
    "id_encoder.fit(df_for_encoding['user_id'].unique())"
   ]
  },
  {
   "cell_type": "code",
   "execution_count": 192,
   "metadata": {},
   "outputs": [
    {
     "data": {
      "text/html": [
       "<style>#sk-container-id-13 {color: black;background-color: white;}#sk-container-id-13 pre{padding: 0;}#sk-container-id-13 div.sk-toggleable {background-color: white;}#sk-container-id-13 label.sk-toggleable__label {cursor: pointer;display: block;width: 100%;margin-bottom: 0;padding: 0.3em;box-sizing: border-box;text-align: center;}#sk-container-id-13 label.sk-toggleable__label-arrow:before {content: \"▸\";float: left;margin-right: 0.25em;color: #696969;}#sk-container-id-13 label.sk-toggleable__label-arrow:hover:before {color: black;}#sk-container-id-13 div.sk-estimator:hover label.sk-toggleable__label-arrow:before {color: black;}#sk-container-id-13 div.sk-toggleable__content {max-height: 0;max-width: 0;overflow: hidden;text-align: left;background-color: #f0f8ff;}#sk-container-id-13 div.sk-toggleable__content pre {margin: 0.2em;color: black;border-radius: 0.25em;background-color: #f0f8ff;}#sk-container-id-13 input.sk-toggleable__control:checked~div.sk-toggleable__content {max-height: 200px;max-width: 100%;overflow: auto;}#sk-container-id-13 input.sk-toggleable__control:checked~label.sk-toggleable__label-arrow:before {content: \"▾\";}#sk-container-id-13 div.sk-estimator input.sk-toggleable__control:checked~label.sk-toggleable__label {background-color: #d4ebff;}#sk-container-id-13 div.sk-label input.sk-toggleable__control:checked~label.sk-toggleable__label {background-color: #d4ebff;}#sk-container-id-13 input.sk-hidden--visually {border: 0;clip: rect(1px 1px 1px 1px);clip: rect(1px, 1px, 1px, 1px);height: 1px;margin: -1px;overflow: hidden;padding: 0;position: absolute;width: 1px;}#sk-container-id-13 div.sk-estimator {font-family: monospace;background-color: #f0f8ff;border: 1px dotted black;border-radius: 0.25em;box-sizing: border-box;margin-bottom: 0.5em;}#sk-container-id-13 div.sk-estimator:hover {background-color: #d4ebff;}#sk-container-id-13 div.sk-parallel-item::after {content: \"\";width: 100%;border-bottom: 1px solid gray;flex-grow: 1;}#sk-container-id-13 div.sk-label:hover label.sk-toggleable__label {background-color: #d4ebff;}#sk-container-id-13 div.sk-serial::before {content: \"\";position: absolute;border-left: 1px solid gray;box-sizing: border-box;top: 0;bottom: 0;left: 50%;z-index: 0;}#sk-container-id-13 div.sk-serial {display: flex;flex-direction: column;align-items: center;background-color: white;padding-right: 0.2em;padding-left: 0.2em;position: relative;}#sk-container-id-13 div.sk-item {position: relative;z-index: 1;}#sk-container-id-13 div.sk-parallel {display: flex;align-items: stretch;justify-content: center;background-color: white;position: relative;}#sk-container-id-13 div.sk-item::before, #sk-container-id-13 div.sk-parallel-item::before {content: \"\";position: absolute;border-left: 1px solid gray;box-sizing: border-box;top: 0;bottom: 0;left: 50%;z-index: -1;}#sk-container-id-13 div.sk-parallel-item {display: flex;flex-direction: column;z-index: 1;position: relative;background-color: white;}#sk-container-id-13 div.sk-parallel-item:first-child::after {align-self: flex-end;width: 50%;}#sk-container-id-13 div.sk-parallel-item:last-child::after {align-self: flex-start;width: 50%;}#sk-container-id-13 div.sk-parallel-item:only-child::after {width: 0;}#sk-container-id-13 div.sk-dashed-wrapped {border: 1px dashed gray;margin: 0 0.4em 0.5em 0.4em;box-sizing: border-box;padding-bottom: 0.4em;background-color: white;}#sk-container-id-13 div.sk-label label {font-family: monospace;font-weight: bold;display: inline-block;line-height: 1.2em;}#sk-container-id-13 div.sk-label-container {text-align: center;}#sk-container-id-13 div.sk-container {/* jupyter's `normalize.less` sets `[hidden] { display: none; }` but bootstrap.min.css set `[hidden] { display: none !important; }` so we also need the `!important` here to be able to override the default hidden behavior on the sphinx rendered scikit-learn.org. See: https://github.com/scikit-learn/scikit-learn/issues/21755 */display: inline-block !important;position: relative;}#sk-container-id-13 div.sk-text-repr-fallback {display: none;}</style><div id=\"sk-container-id-13\" class=\"sk-top-container\"><div class=\"sk-text-repr-fallback\"><pre>OneHotEncoder(handle_unknown=&#x27;ignore&#x27;, sparse_output=False)</pre><b>In a Jupyter environment, please rerun this cell to show the HTML representation or trust the notebook. <br />On GitHub, the HTML representation is unable to render, please try loading this page with nbviewer.org.</b></div><div class=\"sk-container\" hidden><div class=\"sk-item\"><div class=\"sk-estimator sk-toggleable\"><input class=\"sk-toggleable__control sk-hidden--visually\" id=\"sk-estimator-id-13\" type=\"checkbox\" checked><label for=\"sk-estimator-id-13\" class=\"sk-toggleable__label sk-toggleable__label-arrow\">OneHotEncoder</label><div class=\"sk-toggleable__content\"><pre>OneHotEncoder(handle_unknown=&#x27;ignore&#x27;, sparse_output=False)</pre></div></div></div></div></div>"
      ],
      "text/plain": [
       "OneHotEncoder(handle_unknown='ignore', sparse_output=False)"
      ]
     },
     "execution_count": 192,
     "metadata": {},
     "output_type": "execute_result"
    }
   ],
   "source": [
    "country_encoder = OneHotEncoder(sparse_output=False, handle_unknown='ignore')\n",
    "country_encoder.fit(df_for_encoding['country'].unique().reshape(-1, 1))\n",
    "\n",
    "browser_encoder = OneHotEncoder(sparse_output=False, handle_unknown='ignore')\n",
    "browser_encoder.fit(df_for_encoding['browser'].unique().reshape(-1, 1))\n",
    "\n",
    "OS_encoder = OneHotEncoder(sparse_output=False, handle_unknown='ignore')\n",
    "OS_encoder.fit(df_for_encoding['os_version'].unique().reshape(-1, 1))\n",
    "\n",
    "device_encoder = OneHotEncoder(sparse_output=False, handle_unknown='ignore')\n",
    "device_encoder.fit(df_for_encoding['device'].unique().reshape(-1, 1))\n",
    "\n",
    "time_encoder = OneHotEncoder(sparse_output=False, handle_unknown='ignore')\n",
    "time_encoder.fit(df_for_encoding['login_time'].unique().reshape(-1, 1))"
   ]
  },
  {
   "cell_type": "code",
   "execution_count": 193,
   "metadata": {},
   "outputs": [
    {
     "name": "stderr",
     "output_type": "stream",
     "text": [
      "/Users/dinika/Library/Python/3.8/lib/python/site-packages/sklearn/preprocessing/_label.py:134: DataConversionWarning: A column-vector y was passed when a 1d array was expected. Please change the shape of y to (n_samples, ), for example using ravel().\n",
      "  y = column_or_1d(y, dtype=self.classes_.dtype, warn=True)\n"
     ]
    }
   ],
   "source": [
    "transformed_uid = id_encoder.transform(test_df['user_id'].to_numpy().reshape(-1, 1))\n",
    "encoded_uid= pd.DataFrame(transformed_uid, columns=['uid_code'])\n",
    "test_df = pd.concat([test_df, encoded_uid], axis=1).drop(['user_id'], axis=1)"
   ]
  },
  {
   "cell_type": "code",
   "execution_count": 194,
   "metadata": {},
   "outputs": [
    {
     "name": "stderr",
     "output_type": "stream",
     "text": [
      "/Users/dinika/Library/Python/3.8/lib/python/site-packages/sklearn/preprocessing/_label.py:134: DataConversionWarning: A column-vector y was passed when a 1d array was expected. Please change the shape of y to (n_samples, ), for example using ravel().\n",
      "  y = column_or_1d(y, dtype=self.classes_.dtype, warn=True)\n"
     ]
    }
   ],
   "source": [
    "transformed_uid = id_encoder.transform(df['user_id'].to_numpy().reshape(-1, 1))\n",
    "encoded_uid= pd.DataFrame(transformed_uid, columns=['uid_code'])\n",
    "df = pd.concat([df, encoded_uid], axis=1).drop(['user_id'], axis=1)"
   ]
  },
  {
   "cell_type": "code",
   "execution_count": 195,
   "metadata": {},
   "outputs": [
    {
     "data": {
      "text/html": [
       "<div>\n",
       "<style scoped>\n",
       "    .dataframe tbody tr th:only-of-type {\n",
       "        vertical-align: middle;\n",
       "    }\n",
       "\n",
       "    .dataframe tbody tr th {\n",
       "        vertical-align: top;\n",
       "    }\n",
       "\n",
       "    .dataframe thead th {\n",
       "        text-align: right;\n",
       "    }\n",
       "</style>\n",
       "<table border=\"1\" class=\"dataframe\">\n",
       "  <thead>\n",
       "    <tr style=\"text-align: right;\">\n",
       "      <th></th>\n",
       "      <th>timestamp</th>\n",
       "      <th>login_time</th>\n",
       "      <th>country</th>\n",
       "      <th>browser</th>\n",
       "      <th>os_version</th>\n",
       "      <th>device</th>\n",
       "      <th>login_status</th>\n",
       "      <th>is_malicious</th>\n",
       "      <th>uid_code</th>\n",
       "    </tr>\n",
       "  </thead>\n",
       "  <tbody>\n",
       "    <tr>\n",
       "      <th>0</th>\n",
       "      <td>1593632685344000000</td>\n",
       "      <td>late_evening</td>\n",
       "      <td>NO</td>\n",
       "      <td>Chrome</td>\n",
       "      <td>Chrome OS</td>\n",
       "      <td>desktop</td>\n",
       "      <td>1</td>\n",
       "      <td>0</td>\n",
       "      <td>148</td>\n",
       "    </tr>\n",
       "    <tr>\n",
       "      <th>1</th>\n",
       "      <td>1593719670520000000</td>\n",
       "      <td>late_evening</td>\n",
       "      <td>NO</td>\n",
       "      <td>Chrome</td>\n",
       "      <td>Chrome OS</td>\n",
       "      <td>desktop</td>\n",
       "      <td>1</td>\n",
       "      <td>0</td>\n",
       "      <td>148</td>\n",
       "    </tr>\n",
       "    <tr>\n",
       "      <th>2</th>\n",
       "      <td>1593777806076000000</td>\n",
       "      <td>noon</td>\n",
       "      <td>NO</td>\n",
       "      <td>Chrome</td>\n",
       "      <td>Chrome OS</td>\n",
       "      <td>desktop</td>\n",
       "      <td>1</td>\n",
       "      <td>0</td>\n",
       "      <td>148</td>\n",
       "    </tr>\n",
       "    <tr>\n",
       "      <th>3</th>\n",
       "      <td>1593807804925000000</td>\n",
       "      <td>late_evening</td>\n",
       "      <td>NO</td>\n",
       "      <td>Chrome</td>\n",
       "      <td>Chrome OS</td>\n",
       "      <td>desktop</td>\n",
       "      <td>1</td>\n",
       "      <td>0</td>\n",
       "      <td>148</td>\n",
       "    </tr>\n",
       "    <tr>\n",
       "      <th>4</th>\n",
       "      <td>1593887704289000000</td>\n",
       "      <td>evening</td>\n",
       "      <td>NO</td>\n",
       "      <td>Chrome</td>\n",
       "      <td>Chrome OS</td>\n",
       "      <td>desktop</td>\n",
       "      <td>1</td>\n",
       "      <td>0</td>\n",
       "      <td>148</td>\n",
       "    </tr>\n",
       "  </tbody>\n",
       "</table>\n",
       "</div>"
      ],
      "text/plain": [
       "             timestamp    login_time country browser os_version   device  \\\n",
       "0  1593632685344000000  late_evening      NO  Chrome  Chrome OS  desktop   \n",
       "1  1593719670520000000  late_evening      NO  Chrome  Chrome OS  desktop   \n",
       "2  1593777806076000000          noon      NO  Chrome  Chrome OS  desktop   \n",
       "3  1593807804925000000  late_evening      NO  Chrome  Chrome OS  desktop   \n",
       "4  1593887704289000000       evening      NO  Chrome  Chrome OS  desktop   \n",
       "\n",
       "   login_status  is_malicious  uid_code  \n",
       "0             1             0       148  \n",
       "1             1             0       148  \n",
       "2             1             0       148  \n",
       "3             1             0       148  \n",
       "4             1             0       148  "
      ]
     },
     "execution_count": 195,
     "metadata": {},
     "output_type": "execute_result"
    }
   ],
   "source": [
    "df.head()"
   ]
  },
  {
   "cell_type": "code",
   "execution_count": 196,
   "metadata": {},
   "outputs": [],
   "source": [
    "min_max_scaler = MinMaxScaler()\n",
    "uid_scaled = min_max_scaler.fit_transform(df['uid_code'].to_numpy().reshape(-1, 1))\n",
    "uid_scaled = pd.DataFrame(uid_scaled, columns=['uid_scaled'])\n",
    "df = pd.concat([df, uid_scaled], axis=1).drop(['uid_code'], axis=1)"
   ]
  },
  {
   "cell_type": "code",
   "execution_count": 197,
   "metadata": {},
   "outputs": [],
   "source": [
    "uid_scaled = min_max_scaler.fit_transform(test_df['uid_code'].to_numpy().reshape(-1, 1))\n",
    "uid_scaled = pd.DataFrame(uid_scaled, columns=['uid_scaled'])\n",
    "test_df = pd.concat([test_df, uid_scaled], axis=1).drop(['uid_code'], axis=1)"
   ]
  },
  {
   "cell_type": "code",
   "execution_count": 198,
   "metadata": {},
   "outputs": [
    {
     "data": {
      "text/html": [
       "<div>\n",
       "<style scoped>\n",
       "    .dataframe tbody tr th:only-of-type {\n",
       "        vertical-align: middle;\n",
       "    }\n",
       "\n",
       "    .dataframe tbody tr th {\n",
       "        vertical-align: top;\n",
       "    }\n",
       "\n",
       "    .dataframe thead th {\n",
       "        text-align: right;\n",
       "    }\n",
       "</style>\n",
       "<table border=\"1\" class=\"dataframe\">\n",
       "  <thead>\n",
       "    <tr style=\"text-align: right;\">\n",
       "      <th></th>\n",
       "      <th>timestamp</th>\n",
       "      <th>login_time</th>\n",
       "      <th>country</th>\n",
       "      <th>browser</th>\n",
       "      <th>os_version</th>\n",
       "      <th>device</th>\n",
       "      <th>login_status</th>\n",
       "      <th>is_malicious</th>\n",
       "      <th>uid_scaled</th>\n",
       "    </tr>\n",
       "  </thead>\n",
       "  <tbody>\n",
       "    <tr>\n",
       "      <th>0</th>\n",
       "      <td>1593632685344000000</td>\n",
       "      <td>late_evening</td>\n",
       "      <td>NO</td>\n",
       "      <td>Chrome</td>\n",
       "      <td>Chrome OS</td>\n",
       "      <td>desktop</td>\n",
       "      <td>1</td>\n",
       "      <td>0</td>\n",
       "      <td>0.449848</td>\n",
       "    </tr>\n",
       "    <tr>\n",
       "      <th>1</th>\n",
       "      <td>1593719670520000000</td>\n",
       "      <td>late_evening</td>\n",
       "      <td>NO</td>\n",
       "      <td>Chrome</td>\n",
       "      <td>Chrome OS</td>\n",
       "      <td>desktop</td>\n",
       "      <td>1</td>\n",
       "      <td>0</td>\n",
       "      <td>0.449848</td>\n",
       "    </tr>\n",
       "    <tr>\n",
       "      <th>2</th>\n",
       "      <td>1593777806076000000</td>\n",
       "      <td>noon</td>\n",
       "      <td>NO</td>\n",
       "      <td>Chrome</td>\n",
       "      <td>Chrome OS</td>\n",
       "      <td>desktop</td>\n",
       "      <td>1</td>\n",
       "      <td>0</td>\n",
       "      <td>0.449848</td>\n",
       "    </tr>\n",
       "    <tr>\n",
       "      <th>3</th>\n",
       "      <td>1593807804925000000</td>\n",
       "      <td>late_evening</td>\n",
       "      <td>NO</td>\n",
       "      <td>Chrome</td>\n",
       "      <td>Chrome OS</td>\n",
       "      <td>desktop</td>\n",
       "      <td>1</td>\n",
       "      <td>0</td>\n",
       "      <td>0.449848</td>\n",
       "    </tr>\n",
       "    <tr>\n",
       "      <th>4</th>\n",
       "      <td>1593887704289000000</td>\n",
       "      <td>evening</td>\n",
       "      <td>NO</td>\n",
       "      <td>Chrome</td>\n",
       "      <td>Chrome OS</td>\n",
       "      <td>desktop</td>\n",
       "      <td>1</td>\n",
       "      <td>0</td>\n",
       "      <td>0.449848</td>\n",
       "    </tr>\n",
       "  </tbody>\n",
       "</table>\n",
       "</div>"
      ],
      "text/plain": [
       "             timestamp    login_time country browser os_version   device  \\\n",
       "0  1593632685344000000  late_evening      NO  Chrome  Chrome OS  desktop   \n",
       "1  1593719670520000000  late_evening      NO  Chrome  Chrome OS  desktop   \n",
       "2  1593777806076000000          noon      NO  Chrome  Chrome OS  desktop   \n",
       "3  1593807804925000000  late_evening      NO  Chrome  Chrome OS  desktop   \n",
       "4  1593887704289000000       evening      NO  Chrome  Chrome OS  desktop   \n",
       "\n",
       "   login_status  is_malicious  uid_scaled  \n",
       "0             1             0    0.449848  \n",
       "1             1             0    0.449848  \n",
       "2             1             0    0.449848  \n",
       "3             1             0    0.449848  \n",
       "4             1             0    0.449848  "
      ]
     },
     "execution_count": 198,
     "metadata": {},
     "output_type": "execute_result"
    }
   ],
   "source": [
    "df.head()"
   ]
  },
  {
   "cell_type": "code",
   "execution_count": 199,
   "metadata": {},
   "outputs": [],
   "source": [
    "transformed_country = country_encoder.transform(df['country'].to_numpy().reshape(-1, 1))\n",
    "ohe_df_contry = pd.DataFrame(transformed_country, columns=country_encoder.get_feature_names_out())\n",
    "df = pd.concat([df, ohe_df_contry], axis=1).drop(['country'], axis=1)"
   ]
  },
  {
   "cell_type": "code",
   "execution_count": 200,
   "metadata": {},
   "outputs": [],
   "source": [
    "transformed_country = country_encoder.transform(test_df['country'].to_numpy().reshape(-1, 1))\n",
    "ohe_df_contry = pd.DataFrame(transformed_country, columns=country_encoder.get_feature_names_out())\n",
    "test_df = pd.concat([test_df, ohe_df_contry], axis=1).drop(['country'], axis=1)"
   ]
  },
  {
   "cell_type": "code",
   "execution_count": 201,
   "metadata": {},
   "outputs": [],
   "source": [
    "transformed_browser = browser_encoder.transform(df['browser'].to_numpy().reshape(-1, 1))\n",
    "ohe_df_browser = pd.DataFrame(transformed_browser, columns=browser_encoder.get_feature_names_out())\n",
    "df = pd.concat([df, ohe_df_browser], axis=1).drop(['browser'], axis=1)"
   ]
  },
  {
   "cell_type": "code",
   "execution_count": 202,
   "metadata": {},
   "outputs": [],
   "source": [
    "transformed_browser = browser_encoder.transform(test_df['browser'].to_numpy().reshape(-1, 1))\n",
    "ohe_df_browser = pd.DataFrame(transformed_browser, columns=browser_encoder.get_feature_names_out())\n",
    "test_df = pd.concat([test_df, ohe_df_browser], axis=1).drop(['browser'], axis=1)"
   ]
  },
  {
   "cell_type": "code",
   "execution_count": 203,
   "metadata": {},
   "outputs": [],
   "source": [
    "transformed_os = OS_encoder.transform(df['os_version'].to_numpy().reshape(-1, 1))\n",
    "ohe_df_os_version = pd.DataFrame(transformed_os, columns=OS_encoder.get_feature_names_out())\n",
    "df = pd.concat([df, ohe_df_os_version], axis=1).drop(['os_version'], axis=1)"
   ]
  },
  {
   "cell_type": "code",
   "execution_count": 204,
   "metadata": {},
   "outputs": [],
   "source": [
    "transformed_os = OS_encoder.transform(test_df['os_version'].to_numpy().reshape(-1, 1))\n",
    "ohe_df_os_version = pd.DataFrame(transformed_os, columns=OS_encoder.get_feature_names_out())\n",
    "test_df = pd.concat([test_df, ohe_df_os_version], axis=1).drop(['os_version'], axis=1)"
   ]
  },
  {
   "cell_type": "code",
   "execution_count": 205,
   "metadata": {},
   "outputs": [],
   "source": [
    "transformed_device = device_encoder.transform(df['device'].to_numpy().reshape(-1, 1))\n",
    "ohe_df_device = pd.DataFrame(transformed_device, columns=device_encoder.get_feature_names_out())\n",
    "df = pd.concat([df, ohe_df_device], axis=1).drop(['device'], axis=1)"
   ]
  },
  {
   "cell_type": "code",
   "execution_count": 206,
   "metadata": {},
   "outputs": [],
   "source": [
    "transformed_device = device_encoder.transform(test_df['device'].to_numpy().reshape(-1, 1))\n",
    "ohe_df_device = pd.DataFrame(transformed_device, columns=device_encoder.get_feature_names_out())\n",
    "test_df = pd.concat([test_df, ohe_df_device], axis=1).drop(['device'], axis=1)"
   ]
  },
  {
   "cell_type": "code",
   "execution_count": 207,
   "metadata": {},
   "outputs": [],
   "source": [
    "transformed_time = time_encoder.transform(df['login_time'].to_numpy().reshape(-1, 1))\n",
    "ohe_df_time = pd.DataFrame(transformed_time, columns=time_encoder.get_feature_names_out())\n",
    "df = pd.concat([df, ohe_df_time], axis=1).drop(['login_time'], axis=1)"
   ]
  },
  {
   "cell_type": "code",
   "execution_count": 208,
   "metadata": {},
   "outputs": [],
   "source": [
    "transformed_time = time_encoder.transform(test_df['login_time'].to_numpy().reshape(-1, 1))\n",
    "ohe_df_time = pd.DataFrame(transformed_time, columns=time_encoder.get_feature_names_out())\n",
    "test_df = pd.concat([test_df, ohe_df_time], axis=1).drop(['login_time'], axis=1)"
   ]
  },
  {
   "cell_type": "code",
   "execution_count": 209,
   "metadata": {},
   "outputs": [
    {
     "data": {
      "text/plain": [
       "['encoders/uid_min_max_scaler.joblib']"
      ]
     },
     "execution_count": 209,
     "metadata": {},
     "output_type": "execute_result"
    }
   ],
   "source": [
    "joblib.dump(id_encoder,\"encoders/id_encoder.joblib\")\n",
    "joblib.dump(country_encoder,\"encoders/country_encoder.joblib\")\n",
    "joblib.dump(browser_encoder,\"encoders/browser_encoder.joblib\")\n",
    "joblib.dump(OS_encoder,\"encoders/OS_encoder.joblib\")\n",
    "joblib.dump(device_encoder,\"encoders/device_encoder.joblib\")\n",
    "joblib.dump(time_encoder,\"encoders/time_encoder.joblib\")\n",
    "joblib.dump(min_max_scaler,\"encoders/uid_min_max_scaler.joblib\")"
   ]
  },
  {
   "cell_type": "code",
   "execution_count": 210,
   "metadata": {},
   "outputs": [
    {
     "data": {
      "text/html": [
       "<div>\n",
       "<style scoped>\n",
       "    .dataframe tbody tr th:only-of-type {\n",
       "        vertical-align: middle;\n",
       "    }\n",
       "\n",
       "    .dataframe tbody tr th {\n",
       "        vertical-align: top;\n",
       "    }\n",
       "\n",
       "    .dataframe thead th {\n",
       "        text-align: right;\n",
       "    }\n",
       "</style>\n",
       "<table border=\"1\" class=\"dataframe\">\n",
       "  <thead>\n",
       "    <tr style=\"text-align: right;\">\n",
       "      <th></th>\n",
       "      <th>timestamp</th>\n",
       "      <th>login_status</th>\n",
       "      <th>is_malicious</th>\n",
       "      <th>uid_scaled</th>\n",
       "      <th>x0_AU</th>\n",
       "      <th>x0_BE</th>\n",
       "      <th>x0_BR</th>\n",
       "      <th>x0_CA</th>\n",
       "      <th>x0_CH</th>\n",
       "      <th>x0_CZ</th>\n",
       "      <th>...</th>\n",
       "      <th>x0_unknown</th>\n",
       "      <th>x0_afternoon</th>\n",
       "      <th>x0_early_morning</th>\n",
       "      <th>x0_evening</th>\n",
       "      <th>x0_late_evening</th>\n",
       "      <th>x0_late_morning</th>\n",
       "      <th>x0_late_night</th>\n",
       "      <th>x0_morning</th>\n",
       "      <th>x0_night</th>\n",
       "      <th>x0_noon</th>\n",
       "    </tr>\n",
       "  </thead>\n",
       "  <tbody>\n",
       "    <tr>\n",
       "      <th>0</th>\n",
       "      <td>1593632685344000000</td>\n",
       "      <td>1</td>\n",
       "      <td>0</td>\n",
       "      <td>0.449848</td>\n",
       "      <td>0.0</td>\n",
       "      <td>0.0</td>\n",
       "      <td>0.0</td>\n",
       "      <td>0.0</td>\n",
       "      <td>0.0</td>\n",
       "      <td>0.0</td>\n",
       "      <td>...</td>\n",
       "      <td>0.0</td>\n",
       "      <td>0.0</td>\n",
       "      <td>0.0</td>\n",
       "      <td>0.0</td>\n",
       "      <td>1.0</td>\n",
       "      <td>0.0</td>\n",
       "      <td>0.0</td>\n",
       "      <td>0.0</td>\n",
       "      <td>0.0</td>\n",
       "      <td>0.0</td>\n",
       "    </tr>\n",
       "    <tr>\n",
       "      <th>1</th>\n",
       "      <td>1593719670520000000</td>\n",
       "      <td>1</td>\n",
       "      <td>0</td>\n",
       "      <td>0.449848</td>\n",
       "      <td>0.0</td>\n",
       "      <td>0.0</td>\n",
       "      <td>0.0</td>\n",
       "      <td>0.0</td>\n",
       "      <td>0.0</td>\n",
       "      <td>0.0</td>\n",
       "      <td>...</td>\n",
       "      <td>0.0</td>\n",
       "      <td>0.0</td>\n",
       "      <td>0.0</td>\n",
       "      <td>0.0</td>\n",
       "      <td>1.0</td>\n",
       "      <td>0.0</td>\n",
       "      <td>0.0</td>\n",
       "      <td>0.0</td>\n",
       "      <td>0.0</td>\n",
       "      <td>0.0</td>\n",
       "    </tr>\n",
       "    <tr>\n",
       "      <th>2</th>\n",
       "      <td>1593777806076000000</td>\n",
       "      <td>1</td>\n",
       "      <td>0</td>\n",
       "      <td>0.449848</td>\n",
       "      <td>0.0</td>\n",
       "      <td>0.0</td>\n",
       "      <td>0.0</td>\n",
       "      <td>0.0</td>\n",
       "      <td>0.0</td>\n",
       "      <td>0.0</td>\n",
       "      <td>...</td>\n",
       "      <td>0.0</td>\n",
       "      <td>0.0</td>\n",
       "      <td>0.0</td>\n",
       "      <td>0.0</td>\n",
       "      <td>0.0</td>\n",
       "      <td>0.0</td>\n",
       "      <td>0.0</td>\n",
       "      <td>0.0</td>\n",
       "      <td>0.0</td>\n",
       "      <td>1.0</td>\n",
       "    </tr>\n",
       "    <tr>\n",
       "      <th>3</th>\n",
       "      <td>1593807804925000000</td>\n",
       "      <td>1</td>\n",
       "      <td>0</td>\n",
       "      <td>0.449848</td>\n",
       "      <td>0.0</td>\n",
       "      <td>0.0</td>\n",
       "      <td>0.0</td>\n",
       "      <td>0.0</td>\n",
       "      <td>0.0</td>\n",
       "      <td>0.0</td>\n",
       "      <td>...</td>\n",
       "      <td>0.0</td>\n",
       "      <td>0.0</td>\n",
       "      <td>0.0</td>\n",
       "      <td>0.0</td>\n",
       "      <td>1.0</td>\n",
       "      <td>0.0</td>\n",
       "      <td>0.0</td>\n",
       "      <td>0.0</td>\n",
       "      <td>0.0</td>\n",
       "      <td>0.0</td>\n",
       "    </tr>\n",
       "    <tr>\n",
       "      <th>4</th>\n",
       "      <td>1593887704289000000</td>\n",
       "      <td>1</td>\n",
       "      <td>0</td>\n",
       "      <td>0.449848</td>\n",
       "      <td>0.0</td>\n",
       "      <td>0.0</td>\n",
       "      <td>0.0</td>\n",
       "      <td>0.0</td>\n",
       "      <td>0.0</td>\n",
       "      <td>0.0</td>\n",
       "      <td>...</td>\n",
       "      <td>0.0</td>\n",
       "      <td>0.0</td>\n",
       "      <td>0.0</td>\n",
       "      <td>1.0</td>\n",
       "      <td>0.0</td>\n",
       "      <td>0.0</td>\n",
       "      <td>0.0</td>\n",
       "      <td>0.0</td>\n",
       "      <td>0.0</td>\n",
       "      <td>0.0</td>\n",
       "    </tr>\n",
       "  </tbody>\n",
       "</table>\n",
       "<p>5 rows × 77 columns</p>\n",
       "</div>"
      ],
      "text/plain": [
       "             timestamp  login_status  is_malicious  uid_scaled  x0_AU  x0_BE  \\\n",
       "0  1593632685344000000             1             0    0.449848    0.0    0.0   \n",
       "1  1593719670520000000             1             0    0.449848    0.0    0.0   \n",
       "2  1593777806076000000             1             0    0.449848    0.0    0.0   \n",
       "3  1593807804925000000             1             0    0.449848    0.0    0.0   \n",
       "4  1593887704289000000             1             0    0.449848    0.0    0.0   \n",
       "\n",
       "   x0_BR  x0_CA  x0_CH  x0_CZ  ...  x0_unknown  x0_afternoon  \\\n",
       "0    0.0    0.0    0.0    0.0  ...         0.0           0.0   \n",
       "1    0.0    0.0    0.0    0.0  ...         0.0           0.0   \n",
       "2    0.0    0.0    0.0    0.0  ...         0.0           0.0   \n",
       "3    0.0    0.0    0.0    0.0  ...         0.0           0.0   \n",
       "4    0.0    0.0    0.0    0.0  ...         0.0           0.0   \n",
       "\n",
       "   x0_early_morning  x0_evening  x0_late_evening  x0_late_morning  \\\n",
       "0               0.0         0.0              1.0              0.0   \n",
       "1               0.0         0.0              1.0              0.0   \n",
       "2               0.0         0.0              0.0              0.0   \n",
       "3               0.0         0.0              1.0              0.0   \n",
       "4               0.0         1.0              0.0              0.0   \n",
       "\n",
       "   x0_late_night  x0_morning  x0_night  x0_noon  \n",
       "0            0.0         0.0       0.0      0.0  \n",
       "1            0.0         0.0       0.0      0.0  \n",
       "2            0.0         0.0       0.0      1.0  \n",
       "3            0.0         0.0       0.0      0.0  \n",
       "4            0.0         0.0       0.0      0.0  \n",
       "\n",
       "[5 rows x 77 columns]"
      ]
     },
     "execution_count": 210,
     "metadata": {},
     "output_type": "execute_result"
    }
   ],
   "source": [
    "df.head()"
   ]
  },
  {
   "cell_type": "code",
   "execution_count": 211,
   "metadata": {},
   "outputs": [],
   "source": [
    "predictors = df.drop([\"is_malicious\"], axis = 1)\n",
    "predictors = df.drop([\"timestamp\"], axis = 1)\n",
    "target = df[\"is_malicious\"]"
   ]
  },
  {
   "cell_type": "code",
   "execution_count": 212,
   "metadata": {},
   "outputs": [],
   "source": [
    "predictors_test = test_df.drop([\"is_malicious\"], axis = 1)\n",
    "predictors_test = test_df.drop([\"timestamp\"], axis = 1)\n",
    "target_test = test_df[\"is_malicious\"]"
   ]
  },
  {
   "cell_type": "code",
   "execution_count": 213,
   "metadata": {},
   "outputs": [
    {
     "data": {
      "text/plain": [
       "0    0\n",
       "1    0\n",
       "2    0\n",
       "3    0\n",
       "4    0\n",
       "Name: is_malicious, dtype: int64"
      ]
     },
     "execution_count": 213,
     "metadata": {},
     "output_type": "execute_result"
    }
   ],
   "source": [
    "target.head()"
   ]
  },
  {
   "cell_type": "code",
   "execution_count": 214,
   "metadata": {},
   "outputs": [
    {
     "data": {
      "text/html": [
       "<div>\n",
       "<style scoped>\n",
       "    .dataframe tbody tr th:only-of-type {\n",
       "        vertical-align: middle;\n",
       "    }\n",
       "\n",
       "    .dataframe tbody tr th {\n",
       "        vertical-align: top;\n",
       "    }\n",
       "\n",
       "    .dataframe thead th {\n",
       "        text-align: right;\n",
       "    }\n",
       "</style>\n",
       "<table border=\"1\" class=\"dataframe\">\n",
       "  <thead>\n",
       "    <tr style=\"text-align: right;\">\n",
       "      <th></th>\n",
       "      <th>login_status</th>\n",
       "      <th>is_malicious</th>\n",
       "      <th>uid_scaled</th>\n",
       "      <th>x0_AU</th>\n",
       "      <th>x0_BE</th>\n",
       "      <th>x0_BR</th>\n",
       "      <th>x0_CA</th>\n",
       "      <th>x0_CH</th>\n",
       "      <th>x0_CZ</th>\n",
       "      <th>x0_DE</th>\n",
       "      <th>...</th>\n",
       "      <th>x0_unknown</th>\n",
       "      <th>x0_afternoon</th>\n",
       "      <th>x0_early_morning</th>\n",
       "      <th>x0_evening</th>\n",
       "      <th>x0_late_evening</th>\n",
       "      <th>x0_late_morning</th>\n",
       "      <th>x0_late_night</th>\n",
       "      <th>x0_morning</th>\n",
       "      <th>x0_night</th>\n",
       "      <th>x0_noon</th>\n",
       "    </tr>\n",
       "  </thead>\n",
       "  <tbody>\n",
       "    <tr>\n",
       "      <th>0</th>\n",
       "      <td>1</td>\n",
       "      <td>0</td>\n",
       "      <td>0.449848</td>\n",
       "      <td>0.0</td>\n",
       "      <td>0.0</td>\n",
       "      <td>0.0</td>\n",
       "      <td>0.0</td>\n",
       "      <td>0.0</td>\n",
       "      <td>0.0</td>\n",
       "      <td>0.0</td>\n",
       "      <td>...</td>\n",
       "      <td>0.0</td>\n",
       "      <td>0.0</td>\n",
       "      <td>0.0</td>\n",
       "      <td>0.0</td>\n",
       "      <td>1.0</td>\n",
       "      <td>0.0</td>\n",
       "      <td>0.0</td>\n",
       "      <td>0.0</td>\n",
       "      <td>0.0</td>\n",
       "      <td>0.0</td>\n",
       "    </tr>\n",
       "    <tr>\n",
       "      <th>1</th>\n",
       "      <td>1</td>\n",
       "      <td>0</td>\n",
       "      <td>0.449848</td>\n",
       "      <td>0.0</td>\n",
       "      <td>0.0</td>\n",
       "      <td>0.0</td>\n",
       "      <td>0.0</td>\n",
       "      <td>0.0</td>\n",
       "      <td>0.0</td>\n",
       "      <td>0.0</td>\n",
       "      <td>...</td>\n",
       "      <td>0.0</td>\n",
       "      <td>0.0</td>\n",
       "      <td>0.0</td>\n",
       "      <td>0.0</td>\n",
       "      <td>1.0</td>\n",
       "      <td>0.0</td>\n",
       "      <td>0.0</td>\n",
       "      <td>0.0</td>\n",
       "      <td>0.0</td>\n",
       "      <td>0.0</td>\n",
       "    </tr>\n",
       "    <tr>\n",
       "      <th>2</th>\n",
       "      <td>1</td>\n",
       "      <td>0</td>\n",
       "      <td>0.449848</td>\n",
       "      <td>0.0</td>\n",
       "      <td>0.0</td>\n",
       "      <td>0.0</td>\n",
       "      <td>0.0</td>\n",
       "      <td>0.0</td>\n",
       "      <td>0.0</td>\n",
       "      <td>0.0</td>\n",
       "      <td>...</td>\n",
       "      <td>0.0</td>\n",
       "      <td>0.0</td>\n",
       "      <td>0.0</td>\n",
       "      <td>0.0</td>\n",
       "      <td>0.0</td>\n",
       "      <td>0.0</td>\n",
       "      <td>0.0</td>\n",
       "      <td>0.0</td>\n",
       "      <td>0.0</td>\n",
       "      <td>1.0</td>\n",
       "    </tr>\n",
       "    <tr>\n",
       "      <th>3</th>\n",
       "      <td>1</td>\n",
       "      <td>0</td>\n",
       "      <td>0.449848</td>\n",
       "      <td>0.0</td>\n",
       "      <td>0.0</td>\n",
       "      <td>0.0</td>\n",
       "      <td>0.0</td>\n",
       "      <td>0.0</td>\n",
       "      <td>0.0</td>\n",
       "      <td>0.0</td>\n",
       "      <td>...</td>\n",
       "      <td>0.0</td>\n",
       "      <td>0.0</td>\n",
       "      <td>0.0</td>\n",
       "      <td>0.0</td>\n",
       "      <td>1.0</td>\n",
       "      <td>0.0</td>\n",
       "      <td>0.0</td>\n",
       "      <td>0.0</td>\n",
       "      <td>0.0</td>\n",
       "      <td>0.0</td>\n",
       "    </tr>\n",
       "    <tr>\n",
       "      <th>4</th>\n",
       "      <td>1</td>\n",
       "      <td>0</td>\n",
       "      <td>0.449848</td>\n",
       "      <td>0.0</td>\n",
       "      <td>0.0</td>\n",
       "      <td>0.0</td>\n",
       "      <td>0.0</td>\n",
       "      <td>0.0</td>\n",
       "      <td>0.0</td>\n",
       "      <td>0.0</td>\n",
       "      <td>...</td>\n",
       "      <td>0.0</td>\n",
       "      <td>0.0</td>\n",
       "      <td>0.0</td>\n",
       "      <td>1.0</td>\n",
       "      <td>0.0</td>\n",
       "      <td>0.0</td>\n",
       "      <td>0.0</td>\n",
       "      <td>0.0</td>\n",
       "      <td>0.0</td>\n",
       "      <td>0.0</td>\n",
       "    </tr>\n",
       "  </tbody>\n",
       "</table>\n",
       "<p>5 rows × 76 columns</p>\n",
       "</div>"
      ],
      "text/plain": [
       "   login_status  is_malicious  uid_scaled  x0_AU  x0_BE  x0_BR  x0_CA  x0_CH  \\\n",
       "0             1             0    0.449848    0.0    0.0    0.0    0.0    0.0   \n",
       "1             1             0    0.449848    0.0    0.0    0.0    0.0    0.0   \n",
       "2             1             0    0.449848    0.0    0.0    0.0    0.0    0.0   \n",
       "3             1             0    0.449848    0.0    0.0    0.0    0.0    0.0   \n",
       "4             1             0    0.449848    0.0    0.0    0.0    0.0    0.0   \n",
       "\n",
       "   x0_CZ  x0_DE  ...  x0_unknown  x0_afternoon  x0_early_morning  x0_evening  \\\n",
       "0    0.0    0.0  ...         0.0           0.0               0.0         0.0   \n",
       "1    0.0    0.0  ...         0.0           0.0               0.0         0.0   \n",
       "2    0.0    0.0  ...         0.0           0.0               0.0         0.0   \n",
       "3    0.0    0.0  ...         0.0           0.0               0.0         0.0   \n",
       "4    0.0    0.0  ...         0.0           0.0               0.0         1.0   \n",
       "\n",
       "   x0_late_evening  x0_late_morning  x0_late_night  x0_morning  x0_night  \\\n",
       "0              1.0              0.0            0.0         0.0       0.0   \n",
       "1              1.0              0.0            0.0         0.0       0.0   \n",
       "2              0.0              0.0            0.0         0.0       0.0   \n",
       "3              1.0              0.0            0.0         0.0       0.0   \n",
       "4              0.0              0.0            0.0         0.0       0.0   \n",
       "\n",
       "   x0_noon  \n",
       "0      0.0  \n",
       "1      0.0  \n",
       "2      1.0  \n",
       "3      0.0  \n",
       "4      0.0  \n",
       "\n",
       "[5 rows x 76 columns]"
      ]
     },
     "execution_count": 214,
     "metadata": {},
     "output_type": "execute_result"
    }
   ],
   "source": [
    "predictors.head()"
   ]
  },
  {
   "cell_type": "code",
   "execution_count": 215,
   "metadata": {},
   "outputs": [
    {
     "data": {
      "text/plain": [
       "0    46650\n",
       "Name: is_malicious, dtype: int64"
      ]
     },
     "execution_count": 215,
     "metadata": {},
     "output_type": "execute_result"
    }
   ],
   "source": [
    "target.value_counts()"
   ]
  },
  {
   "cell_type": "code",
   "execution_count": 216,
   "metadata": {},
   "outputs": [
    {
     "data": {
      "text/plain": [
       "46650"
      ]
     },
     "execution_count": 216,
     "metadata": {},
     "output_type": "execute_result"
    }
   ],
   "source": [
    "len(predictors)"
   ]
  },
  {
   "cell_type": "code",
   "execution_count": 217,
   "metadata": {},
   "outputs": [
    {
     "data": {
      "text/plain": [
       "46650"
      ]
     },
     "execution_count": 217,
     "metadata": {},
     "output_type": "execute_result"
    }
   ],
   "source": [
    "len(target)"
   ]
  },
  {
   "cell_type": "code",
   "execution_count": 218,
   "metadata": {},
   "outputs": [],
   "source": [
    "def split_data(sequences, train_fraction, validation_fraction, test_fraaction):\n",
    "    train_size = int(len(sequences) * train_fraction)\n",
    "    validation_size = int(len(sequences) * validation_fraction)\n",
    "    test_size = int(len(sequences) * test_fraaction)\n",
    "    train, validation, test = sequences[:train_size], sequences[train_size:train_size+validation_size], sequences[train_size+validation_size:]\n",
    "    return train, validation, test"
   ]
  },
  {
   "cell_type": "code",
   "execution_count": 219,
   "metadata": {},
   "outputs": [],
   "source": [
    "columns = df.columns\n",
    "write_colunms = True\n",
    "user_data_file = \"../../data/Autoencoder_user_data/user_past_data.csv\"\n",
    "\n",
    "train_x = []\n",
    "train_y = []\n",
    "test_x = []\n",
    "test_y = []\n",
    "val_x = []\n",
    "val_y = []\n",
    "\n",
    "unique_users = df['uid_scaled'].unique().tolist()\n",
    "unique_users_test = test_df['uid_scaled'].unique().tolist()\n",
    "#unique_users = df_sample['a'].unique().tolist()\n",
    "\n",
    "for user in unique_users:\n",
    "    user_df = df[df['uid_scaled'] == user]\n",
    "    to_csv = user_df.tail(time_steps)\n",
    "    to_csv.to_csv(user_data_file, mode='a', header=write_colunms, columns=columns)\n",
    "    write_colunms = False\n",
    "    predictors_local = user_df.drop([\"is_malicious\"], axis = 1)\n",
    "    predictors_local = user_df.drop([\"timestamp\"], axis = 1)\n",
    "    target_local = user_df[\"is_malicious\"]\n",
    "    user_sequences = []\n",
    "    user_y_values = []\n",
    "    for i in range(time_steps, len(user_df)+1):\n",
    "        seq = predictors_local.iloc[i - time_steps:i].values\n",
    "        user_sequences.append(seq)\n",
    "        out_seq = target_local.iloc[i-1]\n",
    "        user_y_values.append(out_seq)\n",
    "    user_train_X, user_val_X, user_test_X = split_data(user_sequences,0.6,0.4,0.2) \n",
    "    user_train_y, user_val_y, user_test_y = split_data(user_y_values,0.6,0.4,0.2)\n",
    "    train_x.extend(user_train_X)\n",
    "    train_y.extend(user_train_y)\n",
    "    val_x.extend(user_val_X)\n",
    "    val_y.extend(user_val_y)\n",
    "    test_x.extend(user_test_X)\n",
    "    test_y.extend(user_test_y)\n",
    "\n",
    "test_x = []\n",
    "test_y = []\n",
    "\n",
    "for user in unique_users_test:\n",
    "    user_df = test_df[test_df['uid_scaled'] == user]\n",
    "    predictors_local = user_df.drop([\"is_malicious\"], axis = 1)\n",
    "    predictors_local = user_df.drop([\"timestamp\"], axis = 1)\n",
    "    target_local = user_df[\"is_malicious\"]\n",
    "    user_sequences = []\n",
    "    user_y_values = []\n",
    "    for i in range(time_steps, len(user_df)+1):\n",
    "        seq = predictors_local.iloc[i - time_steps:i].values\n",
    "        user_sequences.append(seq)\n",
    "        out_seq = target_local.iloc[i-1]\n",
    "        user_y_values.append(out_seq)\n",
    "    user_train_X, user_val_X, user_test_X = split_data(user_sequences,0.6,0.2,0.2) \n",
    "    user_train_y, user_val_y, user_test_y = split_data(user_y_values,0.6,0.2,0.2)\n",
    "    test_x.extend(user_train_X)\n",
    "    test_x.extend(user_val_X)\n",
    "    test_x.extend(user_test_X)\n",
    "    test_y.extend(user_train_y)\n",
    "    test_y.extend(user_val_y)\n",
    "    test_y.extend(user_test_y)"
   ]
  },
  {
   "cell_type": "code",
   "execution_count": 156,
   "metadata": {},
   "outputs": [
    {
     "data": {
      "text/plain": [
       "(27990, 27990, 18660, 18660, 16500, 16500)"
      ]
     },
     "execution_count": 156,
     "metadata": {},
     "output_type": "execute_result"
    }
   ],
   "source": [
    "len(train_x), len(train_y), len(val_x), len(val_y), len(test_x), len(test_y)"
   ]
  },
  {
   "cell_type": "code",
   "execution_count": 157,
   "metadata": {},
   "outputs": [
    {
     "name": "stdout",
     "output_type": "stream",
     "text": [
      "[0] [27990]\n"
     ]
    }
   ],
   "source": [
    "unique, counts = np.unique(train_y, return_counts=True)\n",
    "print(unique, counts )\n"
   ]
  },
  {
   "cell_type": "code",
   "execution_count": 158,
   "metadata": {},
   "outputs": [
    {
     "name": "stdout",
     "output_type": "stream",
     "text": [
      "[0 1] [15848   652]\n"
     ]
    }
   ],
   "source": [
    "# print unique value counts in test_y\n",
    "unique, counts = np.unique(test_y, return_counts=True)\n",
    "print(unique, counts )"
   ]
  },
  {
   "cell_type": "code",
   "execution_count": 159,
   "metadata": {},
   "outputs": [
    {
     "name": "stdout",
     "output_type": "stream",
     "text": [
      "[0] [18660]\n"
     ]
    }
   ],
   "source": [
    "unique, counts = np.unique(val_y, return_counts=True)\n",
    "print(unique, counts )"
   ]
  },
  {
   "cell_type": "code",
   "execution_count": 160,
   "metadata": {},
   "outputs": [],
   "source": [
    "X_train = np.array(train_x)\n",
    "y_train = np.array(train_y)\n",
    "y_train = y_train.reshape(y_train.shape[0], 1)\n",
    "X_val = np.array(val_x)\n",
    "y_val = np.array(val_y)\n",
    "y_val = y_val.reshape(y_val.shape[0], 1)\n",
    "X_test = np.array(test_x)\n",
    "y_test = np.array(test_y)\n",
    "y_test = y_test.reshape(y_test.shape[0], 1)"
   ]
  },
  {
   "cell_type": "code",
   "execution_count": 161,
   "metadata": {},
   "outputs": [
    {
     "name": "stdout",
     "output_type": "stream",
     "text": [
      "X_train shape:\n",
      " (27990, 1, 76)\n",
      "y_train shape:\n",
      " (27990, 1)\n",
      "X_val shape:\n",
      " (18660, 1, 76)\n",
      "y_val shape:\n",
      " (18660, 1)\n",
      "X_test shape:\n",
      " (16500, 1, 76)\n",
      "y_test shape:\n",
      " (16500, 1)\n"
     ]
    }
   ],
   "source": [
    "print(\"X_train shape:\\n\", X_train.shape)\n",
    "print(\"y_train shape:\\n\", y_train.shape)\n",
    "print(\"X_val shape:\\n\", X_val.shape)\n",
    "print(\"y_val shape:\\n\", y_val.shape)\n",
    "print(\"X_test shape:\\n\", X_test.shape)\n",
    "print(\"y_test shape:\\n\", y_test.shape)"
   ]
  },
  {
   "cell_type": "code",
   "execution_count": 162,
   "metadata": {},
   "outputs": [],
   "source": [
    "n_features = X_train.shape[2]"
   ]
  },
  {
   "cell_type": "code",
   "execution_count": 163,
   "metadata": {},
   "outputs": [],
   "source": [
    "# model1 = keras.Sequential([\n",
    "#     layers.LSTM(64, activation='relu', input_shape=(time_steps, n_features), return_sequences=True),\n",
    "#     layers.LSTM(32, activation='relu', return_sequences=True),\n",
    "#     layers.LSTM(32, activation='relu', return_sequences=True),\n",
    "#     layers.LSTM(64, activation='relu', return_sequences=True),\n",
    "#     layers.TimeDistributed(Dense(n_features))\n",
    "# ])\n",
    "\n",
    "# model1.compile(loss='mse', optimizer='adam',metrics=['accuracy'])"
   ]
  },
  {
   "cell_type": "code",
   "execution_count": 178,
   "metadata": {},
   "outputs": [
    {
     "name": "stdout",
     "output_type": "stream",
     "text": [
      "Model: \"sequential_2\"\n",
      "_________________________________________________________________\n",
      " Layer (type)                Output Shape              Param #   \n",
      "=================================================================\n",
      " lstm_8 (LSTM)               (None, 1, 64)             36096     \n",
      "                                                                 \n",
      " lstm_9 (LSTM)               (None, 1, 32)             12416     \n",
      "                                                                 \n",
      " lstm_10 (LSTM)              (None, 1, 32)             8320      \n",
      "                                                                 \n",
      " lstm_11 (LSTM)              (None, 1, 64)             24832     \n",
      "                                                                 \n",
      " time_distributed_2 (TimeDis  (None, 1, 76)            4940      \n",
      " tributed)                                                       \n",
      "                                                                 \n",
      "=================================================================\n",
      "Total params: 86,604\n",
      "Trainable params: 86,604\n",
      "Non-trainable params: 0\n",
      "_________________________________________________________________\n"
     ]
    }
   ],
   "source": [
    "# define model\n",
    "model = keras.Sequential()\n",
    "model.add(LSTM(64, activation='relu', input_shape=(time_steps,n_features), return_sequences=True))\n",
    "model.add(LSTM(32, activation='relu', return_sequences=True))\n",
    "model.add(LSTM(32, activation='relu', return_sequences=True))\n",
    "model.add(LSTM(64, activation='relu', return_sequences=True))\n",
    "model.add(TimeDistributed(Dense(n_features)))\n",
    "model.compile(optimizer='adam', loss='mse', metrics=['accuracy'])\n",
    "model.summary()"
   ]
  },
  {
   "cell_type": "code",
   "execution_count": 179,
   "metadata": {},
   "outputs": [
    {
     "data": {
      "text/plain": [
       "150"
      ]
     },
     "execution_count": 179,
     "metadata": {},
     "output_type": "execute_result"
    }
   ],
   "source": [
    "batch_size = logins_per_user - time_steps + 1\n",
    "batch_size"
   ]
  },
  {
   "cell_type": "code",
   "execution_count": 180,
   "metadata": {},
   "outputs": [
    {
     "name": "stdout",
     "output_type": "stream",
     "text": [
      "Epoch 1/10\n",
      "55/55 - 3s - loss: 0.0759 - accuracy: 0.9161 - val_loss: 0.0659 - val_accuracy: 0.9333 - 3s/epoch - 60ms/step\n",
      "Epoch 2/10\n",
      "55/55 - 0s - loss: 0.0440 - accuracy: 0.6711 - val_loss: 0.0355 - val_accuracy: 0.9333 - 336ms/epoch - 6ms/step\n",
      "Epoch 3/10\n",
      "55/55 - 0s - loss: 0.0355 - accuracy: 0.7859 - val_loss: 0.0343 - val_accuracy: 0.9333 - 417ms/epoch - 8ms/step\n",
      "Epoch 4/10\n",
      "55/55 - 0s - loss: 0.0340 - accuracy: 0.7719 - val_loss: 0.0321 - val_accuracy: 0.9113 - 418ms/epoch - 8ms/step\n",
      "Epoch 5/10\n",
      "55/55 - 0s - loss: 0.0298 - accuracy: 0.7239 - val_loss: 0.0261 - val_accuracy: 0.5369 - 417ms/epoch - 8ms/step\n",
      "Epoch 6/10\n",
      "55/55 - 0s - loss: 0.0259 - accuracy: 0.3809 - val_loss: 0.0246 - val_accuracy: 0.2013 - 419ms/epoch - 8ms/step\n",
      "Epoch 7/10\n",
      "55/55 - 0s - loss: 0.0250 - accuracy: 0.2418 - val_loss: 0.0239 - val_accuracy: 0.1669 - 416ms/epoch - 8ms/step\n",
      "Epoch 8/10\n",
      "55/55 - 0s - loss: 0.0240 - accuracy: 0.2040 - val_loss: 0.0229 - val_accuracy: 0.0588 - 418ms/epoch - 8ms/step\n",
      "Epoch 9/10\n",
      "55/55 - 0s - loss: 0.0232 - accuracy: 0.1920 - val_loss: 0.0222 - val_accuracy: 0.0482 - 417ms/epoch - 8ms/step\n",
      "Epoch 10/10\n",
      "55/55 - 0s - loss: 0.0227 - accuracy: 0.1077 - val_loss: 0.0219 - val_accuracy: 0.0207 - 435ms/epoch - 8ms/step\n"
     ]
    }
   ],
   "source": [
    "history = model.fit(X_train, X_train, epochs=10, batch_size=512, validation_data=(X_val, X_val), verbose=2, shuffle=False)"
   ]
  },
  {
   "cell_type": "code",
   "execution_count": 167,
   "metadata": {},
   "outputs": [
    {
     "name": "stdout",
     "output_type": "stream",
     "text": [
      "875/875 [==============================] - 1s 655us/step\n",
      "584/584 [==============================] - 0s 616us/step\n",
      "516/516 [==============================] - 0s 620us/step\n"
     ]
    }
   ],
   "source": [
    "train_pred = model.predict(X_train)\n",
    "val_pred = model.predict(X_val)\n",
    "test_pred = model.predict(X_test)"
   ]
  },
  {
   "cell_type": "code",
   "execution_count": 168,
   "metadata": {},
   "outputs": [
    {
     "name": "stdout",
     "output_type": "stream",
     "text": [
      "train_pred shape:\n",
      " (27990, 1, 76)\n",
      "val_pred shape:\n",
      " (18660, 1, 76)\n",
      "test_pred shape:\n",
      " (16500, 1, 76)\n"
     ]
    }
   ],
   "source": [
    "print(\"train_pred shape:\\n\", train_pred.shape)\n",
    "print(\"val_pred shape:\\n\", val_pred.shape)\n",
    "print(\"test_pred shape:\\n\", test_pred.shape)"
   ]
  },
  {
   "cell_type": "code",
   "execution_count": 169,
   "metadata": {},
   "outputs": [],
   "source": [
    "def flatten(X):\n",
    "    flattened_X = np.empty((X.shape[0], X.shape[2]))  # sample x features array.\n",
    "    for i in range(X.shape[0]):\n",
    "        flattened_X[i] = X[i, (X.shape[1]-1), :]\n",
    "    return(flattened_X)"
   ]
  },
  {
   "cell_type": "code",
   "execution_count": 170,
   "metadata": {},
   "outputs": [],
   "source": [
    "mse = np.mean(np.power(flatten(X_test) - flatten(test_pred), 2), axis=1)\n"
   ]
  },
  {
   "cell_type": "code",
   "execution_count": 171,
   "metadata": {},
   "outputs": [
    {
     "data": {
      "text/plain": [
       "(16500,)"
      ]
     },
     "execution_count": 171,
     "metadata": {},
     "output_type": "execute_result"
    }
   ],
   "source": [
    "mse.shape"
   ]
  },
  {
   "cell_type": "code",
   "execution_count": 172,
   "metadata": {},
   "outputs": [],
   "source": [
    "# reshape y_test to 1D array\n",
    "y_test_1 = y_test.reshape(y_test.shape[0],)"
   ]
  },
  {
   "cell_type": "code",
   "execution_count": 183,
   "metadata": {},
   "outputs": [
    {
     "data": {
      "image/png": "[encoded data removed]",
      "text/plain": [
       "<Figure size 640x480 with 1 Axes>"
      ]
     },
     "metadata": {},
     "output_type": "display_data"
    }
   ],
   "source": [
    "error_df = pd.DataFrame({'Reconstruction_error': mse,\n",
    "                        'True_class': y_test_1.tolist()})\n",
    "\n",
    "threshold_fixed = 0.0365\n",
    "groups = error_df.groupby('True_class')\n",
    "fig, ax = plt.subplots()\n",
    "\n",
    "for name, group in groups:\n",
    "    ax.plot(group.index, group.Reconstruction_error, marker='o', ms=3.5, linestyle='',\n",
    "            label= \"Malicious\" if name == 1 else \"Normal\")\n",
    "ax.hlines(threshold_fixed, ax.get_xlim()[0], ax.get_xlim()[1], colors=\"r\", zorder=100, label='Threshold')\n",
    "ax.legend()\n",
    "plt.title(\"Reconstruction error for different classes\")\n",
    "plt.ylabel(\"Reconstruction error\")\n",
    "plt.xlabel(\"Data point index\")\n",
    "plt.show()"
   ]
  },
  {
   "cell_type": "code",
   "execution_count": 182,
   "metadata": {},
   "outputs": [
    {
     "data": {
      "image/png": "[encoded data removed]",
      "text/plain": [
       "<Figure size 600x600 with 2 Axes>"
      ]
     },
     "metadata": {},
     "output_type": "display_data"
    }
   ],
   "source": [
    "pred_y_out = [1 if e > threshold_fixed else 0 for e in error_df.Reconstruction_error.values]\n",
    "conf_matrix = confusion_matrix(error_df.True_class, pred_y_out)\n",
    "\n",
    "plt.figure(figsize=(6, 6))\n",
    "sns.heatmap(conf_matrix, xticklabels = [\"normal\", \"fraud\"], \n",
    "            yticklabels=[\"normal\", \"fraud\"],  annot=True, fmt=\"d\");\n",
    "plt.title(\"Confusion matrix\")\n",
    "plt.ylabel('True class')\n",
    "plt.xlabel('Predicted class')\n",
    "plt.show()"
   ]
  },
  {
   "cell_type": "code",
   "execution_count": 175,
   "metadata": {},
   "outputs": [],
   "source": [
    "#Store model\n",
    "model.save('model/unsupervised_lstm.h5')"
   ]
  }
 ],
 "metadata": {
  "kernelspec": {
   "display_name": "Python 3.8.9 64-bit",
   "language": "python",
   "name": "python3"
  },
  "language_info": {
   "codemirror_mode": {
    "name": "ipython",
    "version": 3
   },
   "file_extension": ".py",
   "mimetype": "text/x-python",
   "name": "python",
   "nbconvert_exporter": "python",
   "pygments_lexer": "ipython3",
   "version": "3.8.9"
  },
  "orig_nbformat": 4,
  "vscode": {
   "interpreter": {
    "hash": "31f2aee4e71d21fbe5cf8b01ff0e069b9275f58929596ceb00d14d90e3e16cd6"
   }
  }
 },
 "nbformat": 4,
 "nbformat_minor": 2
}
